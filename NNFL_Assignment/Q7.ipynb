{
  "nbformat": 4,
  "nbformat_minor": 0,
  "metadata": {
    "colab": {
      "provenance": []
    },
    "kernelspec": {
      "name": "python3",
      "display_name": "Python 3"
    },
    "language_info": {
      "name": "python"
    }
  },
  "cells": [
    {
      "cell_type": "code",
      "metadata": {
        "id": "MYavkEAuf5Ov"
      },
      "source": [
        "import pandas as pd\n",
        "import math\n",
        "import numpy as np\n",
        "import matplotlib.pyplot as plt"
      ],
      "execution_count": null,
      "outputs": []
    },
    {
      "cell_type": "code",
      "metadata": {
        "colab": {
          "resources": {
            "http://localhost:8080/nbextensions/google.colab/files.js": {
              "data": "Ly8gQ29weXJpZ2h0IDIwMTcgR29vZ2xlIExMQwovLwovLyBMaWNlbnNlZCB1bmRlciB0aGUgQXBhY2hlIExpY2Vuc2UsIFZlcnNpb24gMi4wICh0aGUgIkxpY2Vuc2UiKTsKLy8geW91IG1heSBub3QgdXNlIHRoaXMgZmlsZSBleGNlcHQgaW4gY29tcGxpYW5jZSB3aXRoIHRoZSBMaWNlbnNlLgovLyBZb3UgbWF5IG9idGFpbiBhIGNvcHkgb2YgdGhlIExpY2Vuc2UgYXQKLy8KLy8gICAgICBodHRwOi8vd3d3LmFwYWNoZS5vcmcvbGljZW5zZXMvTElDRU5TRS0yLjAKLy8KLy8gVW5sZXNzIHJlcXVpcmVkIGJ5IGFwcGxpY2FibGUgbGF3IG9yIGFncmVlZCB0byBpbiB3cml0aW5nLCBzb2Z0d2FyZQovLyBkaXN0cmlidXRlZCB1bmRlciB0aGUgTGljZW5zZSBpcyBkaXN0cmlidXRlZCBvbiBhbiAiQVMgSVMiIEJBU0lTLAovLyBXSVRIT1VUIFdBUlJBTlRJRVMgT1IgQ09ORElUSU9OUyBPRiBBTlkgS0lORCwgZWl0aGVyIGV4cHJlc3Mgb3IgaW1wbGllZC4KLy8gU2VlIHRoZSBMaWNlbnNlIGZvciB0aGUgc3BlY2lmaWMgbGFuZ3VhZ2UgZ292ZXJuaW5nIHBlcm1pc3Npb25zIGFuZAovLyBsaW1pdGF0aW9ucyB1bmRlciB0aGUgTGljZW5zZS4KCi8qKgogKiBAZmlsZW92ZXJ2aWV3IEhlbHBlcnMgZm9yIGdvb2dsZS5jb2xhYiBQeXRob24gbW9kdWxlLgogKi8KKGZ1bmN0aW9uKHNjb3BlKSB7CmZ1bmN0aW9uIHNwYW4odGV4dCwgc3R5bGVBdHRyaWJ1dGVzID0ge30pIHsKICBjb25zdCBlbGVtZW50ID0gZG9jdW1lbnQuY3JlYXRlRWxlbWVudCgnc3BhbicpOwogIGVsZW1lbnQudGV4dENvbnRlbnQgPSB0ZXh0OwogIGZvciAoY29uc3Qga2V5IG9mIE9iamVjdC5rZXlzKHN0eWxlQXR0cmlidXRlcykpIHsKICAgIGVsZW1lbnQuc3R5bGVba2V5XSA9IHN0eWxlQXR0cmlidXRlc1trZXldOwogIH0KICByZXR1cm4gZWxlbWVudDsKfQoKLy8gTWF4IG51bWJlciBvZiBieXRlcyB3aGljaCB3aWxsIGJlIHVwbG9hZGVkIGF0IGEgdGltZS4KY29uc3QgTUFYX1BBWUxPQURfU0laRSA9IDEwMCAqIDEwMjQ7CgpmdW5jdGlvbiBfdXBsb2FkRmlsZXMoaW5wdXRJZCwgb3V0cHV0SWQpIHsKICBjb25zdCBzdGVwcyA9IHVwbG9hZEZpbGVzU3RlcChpbnB1dElkLCBvdXRwdXRJZCk7CiAgY29uc3Qgb3V0cHV0RWxlbWVudCA9IGRvY3VtZW50LmdldEVsZW1lbnRCeUlkKG91dHB1dElkKTsKICAvLyBDYWNoZSBzdGVwcyBvbiB0aGUgb3V0cHV0RWxlbWVudCB0byBtYWtlIGl0IGF2YWlsYWJsZSBmb3IgdGhlIG5leHQgY2FsbAogIC8vIHRvIHVwbG9hZEZpbGVzQ29udGludWUgZnJvbSBQeXRob24uCiAgb3V0cHV0RWxlbWVudC5zdGVwcyA9IHN0ZXBzOwoKICByZXR1cm4gX3VwbG9hZEZpbGVzQ29udGludWUob3V0cHV0SWQpOwp9CgovLyBUaGlzIGlzIHJvdWdobHkgYW4gYXN5bmMgZ2VuZXJhdG9yIChub3Qgc3VwcG9ydGVkIGluIHRoZSBicm93c2VyIHlldCksCi8vIHdoZXJlIHRoZXJlIGFyZSBtdWx0aXBsZSBhc3luY2hyb25vdXMgc3RlcHMgYW5kIHRoZSBQeXRob24gc2lkZSBpcyBnb2luZwovLyB0byBwb2xsIGZvciBjb21wbGV0aW9uIG9mIGVhY2ggc3RlcC4KLy8gVGhpcyB1c2VzIGEgUHJvbWlzZSB0byBibG9jayB0aGUgcHl0aG9uIHNpZGUgb24gY29tcGxldGlvbiBvZiBlYWNoIHN0ZXAsCi8vIHRoZW4gcGFzc2VzIHRoZSByZXN1bHQgb2YgdGhlIHByZXZpb3VzIHN0ZXAgYXMgdGhlIGlucHV0IHRvIHRoZSBuZXh0IHN0ZXAuCmZ1bmN0aW9uIF91cGxvYWRGaWxlc0NvbnRpbnVlKG91dHB1dElkKSB7CiAgY29uc3Qgb3V0cHV0RWxlbWVudCA9IGRvY3VtZW50LmdldEVsZW1lbnRCeUlkKG91dHB1dElkKTsKICBjb25zdCBzdGVwcyA9IG91dHB1dEVsZW1lbnQuc3RlcHM7CgogIGNvbnN0IG5leHQgPSBzdGVwcy5uZXh0KG91dHB1dEVsZW1lbnQubGFzdFByb21pc2VWYWx1ZSk7CiAgcmV0dXJuIFByb21pc2UucmVzb2x2ZShuZXh0LnZhbHVlLnByb21pc2UpLnRoZW4oKHZhbHVlKSA9PiB7CiAgICAvLyBDYWNoZSB0aGUgbGFzdCBwcm9taXNlIHZhbHVlIHRvIG1ha2UgaXQgYXZhaWxhYmxlIHRvIHRoZSBuZXh0CiAgICAvLyBzdGVwIG9mIHRoZSBnZW5lcmF0b3IuCiAgICBvdXRwdXRFbGVtZW50Lmxhc3RQcm9taXNlVmFsdWUgPSB2YWx1ZTsKICAgIHJldHVybiBuZXh0LnZhbHVlLnJlc3BvbnNlOwogIH0pOwp9CgovKioKICogR2VuZXJhdG9yIGZ1bmN0aW9uIHdoaWNoIGlzIGNhbGxlZCBiZXR3ZWVuIGVhY2ggYXN5bmMgc3RlcCBvZiB0aGUgdXBsb2FkCiAqIHByb2Nlc3MuCiAqIEBwYXJhbSB7c3RyaW5nfSBpbnB1dElkIEVsZW1lbnQgSUQgb2YgdGhlIGlucHV0IGZpbGUgcGlja2VyIGVsZW1lbnQuCiAqIEBwYXJhbSB7c3RyaW5nfSBvdXRwdXRJZCBFbGVtZW50IElEIG9mIHRoZSBvdXRwdXQgZGlzcGxheS4KICogQHJldHVybiB7IUl0ZXJhYmxlPCFPYmplY3Q+fSBJdGVyYWJsZSBvZiBuZXh0IHN0ZXBzLgogKi8KZnVuY3Rpb24qIHVwbG9hZEZpbGVzU3RlcChpbnB1dElkLCBvdXRwdXRJZCkgewogIGNvbnN0IGlucHV0RWxlbWVudCA9IGRvY3VtZW50LmdldEVsZW1lbnRCeUlkKGlucHV0SWQpOwogIGlucHV0RWxlbWVudC5kaXNhYmxlZCA9IGZhbHNlOwoKICBjb25zdCBvdXRwdXRFbGVtZW50ID0gZG9jdW1lbnQuZ2V0RWxlbWVudEJ5SWQob3V0cHV0SWQpOwogIG91dHB1dEVsZW1lbnQuaW5uZXJIVE1MID0gJyc7CgogIGNvbnN0IHBpY2tlZFByb21pc2UgPSBuZXcgUHJvbWlzZSgocmVzb2x2ZSkgPT4gewogICAgaW5wdXRFbGVtZW50LmFkZEV2ZW50TGlzdGVuZXIoJ2NoYW5nZScsIChlKSA9PiB7CiAgICAgIHJlc29sdmUoZS50YXJnZXQuZmlsZXMpOwogICAgfSk7CiAgfSk7CgogIGNvbnN0IGNhbmNlbCA9IGRvY3VtZW50LmNyZWF0ZUVsZW1lbnQoJ2J1dHRvbicpOwogIGlucHV0RWxlbWVudC5wYXJlbnRFbGVtZW50LmFwcGVuZENoaWxkKGNhbmNlbCk7CiAgY2FuY2VsLnRleHRDb250ZW50ID0gJ0NhbmNlbCB1cGxvYWQnOwogIGNvbnN0IGNhbmNlbFByb21pc2UgPSBuZXcgUHJvbWlzZSgocmVzb2x2ZSkgPT4gewogICAgY2FuY2VsLm9uY2xpY2sgPSAoKSA9PiB7CiAgICAgIHJlc29sdmUobnVsbCk7CiAgICB9OwogIH0pOwoKICAvLyBXYWl0IGZvciB0aGUgdXNlciB0byBwaWNrIHRoZSBmaWxlcy4KICBjb25zdCBmaWxlcyA9IHlpZWxkIHsKICAgIHByb21pc2U6IFByb21pc2UucmFjZShbcGlja2VkUHJvbWlzZSwgY2FuY2VsUHJvbWlzZV0pLAogICAgcmVzcG9uc2U6IHsKICAgICAgYWN0aW9uOiAnc3RhcnRpbmcnLAogICAgfQogIH07CgogIGNhbmNlbC5yZW1vdmUoKTsKCiAgLy8gRGlzYWJsZSB0aGUgaW5wdXQgZWxlbWVudCBzaW5jZSBmdXJ0aGVyIHBpY2tzIGFyZSBub3QgYWxsb3dlZC4KICBpbnB1dEVsZW1lbnQuZGlzYWJsZWQgPSB0cnVlOwoKICBpZiAoIWZpbGVzKSB7CiAgICByZXR1cm4gewogICAgICByZXNwb25zZTogewogICAgICAgIGFjdGlvbjogJ2NvbXBsZXRlJywKICAgICAgfQogICAgfTsKICB9CgogIGZvciAoY29uc3QgZmlsZSBvZiBmaWxlcykgewogICAgY29uc3QgbGkgPSBkb2N1bWVudC5jcmVhdGVFbGVtZW50KCdsaScpOwogICAgbGkuYXBwZW5kKHNwYW4oZmlsZS5uYW1lLCB7Zm9udFdlaWdodDogJ2JvbGQnfSkpOwogICAgbGkuYXBwZW5kKHNwYW4oCiAgICAgICAgYCgke2ZpbGUudHlwZSB8fCAnbi9hJ30pIC0gJHtmaWxlLnNpemV9IGJ5dGVzLCBgICsKICAgICAgICBgbGFzdCBtb2RpZmllZDogJHsKICAgICAgICAgICAgZmlsZS5sYXN0TW9kaWZpZWREYXRlID8gZmlsZS5sYXN0TW9kaWZpZWREYXRlLnRvTG9jYWxlRGF0ZVN0cmluZygpIDoKICAgICAgICAgICAgICAgICAgICAgICAgICAgICAgICAgICAgJ24vYSd9IC0gYCkpOwogICAgY29uc3QgcGVyY2VudCA9IHNwYW4oJzAlIGRvbmUnKTsKICAgIGxpLmFwcGVuZENoaWxkKHBlcmNlbnQpOwoKICAgIG91dHB1dEVsZW1lbnQuYXBwZW5kQ2hpbGQobGkpOwoKICAgIGNvbnN0IGZpbGVEYXRhUHJvbWlzZSA9IG5ldyBQcm9taXNlKChyZXNvbHZlKSA9PiB7CiAgICAgIGNvbnN0IHJlYWRlciA9IG5ldyBGaWxlUmVhZGVyKCk7CiAgICAgIHJlYWRlci5vbmxvYWQgPSAoZSkgPT4gewogICAgICAgIHJlc29sdmUoZS50YXJnZXQucmVzdWx0KTsKICAgICAgfTsKICAgICAgcmVhZGVyLnJlYWRBc0FycmF5QnVmZmVyKGZpbGUpOwogICAgfSk7CiAgICAvLyBXYWl0IGZvciB0aGUgZGF0YSB0byBiZSByZWFkeS4KICAgIGxldCBmaWxlRGF0YSA9IHlpZWxkIHsKICAgICAgcHJvbWlzZTogZmlsZURhdGFQcm9taXNlLAogICAgICByZXNwb25zZTogewogICAgICAgIGFjdGlvbjogJ2NvbnRpbnVlJywKICAgICAgfQogICAgfTsKCiAgICAvLyBVc2UgYSBjaHVua2VkIHNlbmRpbmcgdG8gYXZvaWQgbWVzc2FnZSBzaXplIGxpbWl0cy4gU2VlIGIvNjIxMTU2NjAuCiAgICBsZXQgcG9zaXRpb24gPSAwOwogICAgZG8gewogICAgICBjb25zdCBsZW5ndGggPSBNYXRoLm1pbihmaWxlRGF0YS5ieXRlTGVuZ3RoIC0gcG9zaXRpb24sIE1BWF9QQVlMT0FEX1NJWkUpOwogICAgICBjb25zdCBjaHVuayA9IG5ldyBVaW50OEFycmF5KGZpbGVEYXRhLCBwb3NpdGlvbiwgbGVuZ3RoKTsKICAgICAgcG9zaXRpb24gKz0gbGVuZ3RoOwoKICAgICAgY29uc3QgYmFzZTY0ID0gYnRvYShTdHJpbmcuZnJvbUNoYXJDb2RlLmFwcGx5KG51bGwsIGNodW5rKSk7CiAgICAgIHlpZWxkIHsKICAgICAgICByZXNwb25zZTogewogICAgICAgICAgYWN0aW9uOiAnYXBwZW5kJywKICAgICAgICAgIGZpbGU6IGZpbGUubmFtZSwKICAgICAgICAgIGRhdGE6IGJhc2U2NCwKICAgICAgICB9LAogICAgICB9OwoKICAgICAgbGV0IHBlcmNlbnREb25lID0gZmlsZURhdGEuYnl0ZUxlbmd0aCA9PT0gMCA/CiAgICAgICAgICAxMDAgOgogICAgICAgICAgTWF0aC5yb3VuZCgocG9zaXRpb24gLyBmaWxlRGF0YS5ieXRlTGVuZ3RoKSAqIDEwMCk7CiAgICAgIHBlcmNlbnQudGV4dENvbnRlbnQgPSBgJHtwZXJjZW50RG9uZX0lIGRvbmVgOwoKICAgIH0gd2hpbGUgKHBvc2l0aW9uIDwgZmlsZURhdGEuYnl0ZUxlbmd0aCk7CiAgfQoKICAvLyBBbGwgZG9uZS4KICB5aWVsZCB7CiAgICByZXNwb25zZTogewogICAgICBhY3Rpb246ICdjb21wbGV0ZScsCiAgICB9CiAgfTsKfQoKc2NvcGUuZ29vZ2xlID0gc2NvcGUuZ29vZ2xlIHx8IHt9OwpzY29wZS5nb29nbGUuY29sYWIgPSBzY29wZS5nb29nbGUuY29sYWIgfHwge307CnNjb3BlLmdvb2dsZS5jb2xhYi5fZmlsZXMgPSB7CiAgX3VwbG9hZEZpbGVzLAogIF91cGxvYWRGaWxlc0NvbnRpbnVlLAp9Owp9KShzZWxmKTsK",
              "ok": true,
              "headers": [
                [
                  "content-type",
                  "application/javascript"
                ]
              ],
              "status": 200,
              "status_text": ""
            }
          },
          "base_uri": "https://localhost:8080/",
          "height": 73
        },
        "id": "EzmVlgTif7xV",
        "outputId": "0b2273d0-4477-49a7-f8c6-cdc02edd1534"
      },
      "source": [
        "from google.colab import drive, files\n",
        "uploaded = files.upload()"
      ],
      "execution_count": null,
      "outputs": [
        {
          "output_type": "display_data",
          "data": {
            "text/html": [
              "\n",
              "     <input type=\"file\" id=\"files-0b6d4f5a-d8b7-47cf-a9fb-76a18e39e2be\" name=\"files[]\" multiple disabled\n",
              "        style=\"border:none\" />\n",
              "     <output id=\"result-0b6d4f5a-d8b7-47cf-a9fb-76a18e39e2be\">\n",
              "      Upload widget is only available when the cell has been executed in the\n",
              "      current browser session. Please rerun this cell to enable.\n",
              "      </output>\n",
              "      <script src=\"/nbextensions/google.colab/files.js\"></script> "
            ],
            "text/plain": [
              "<IPython.core.display.HTML object>"
            ]
          },
          "metadata": {}
        },
        {
          "output_type": "stream",
          "name": "stdout",
          "text": [
            "Saving data_q6_q7.xlsx to data_q6_q7.xlsx\n"
          ]
        }
      ]
    },
    {
      "cell_type": "code",
      "metadata": {
        "id": "hV9dqFv-f9ah"
      },
      "source": [
        "def sigmoid(z):\n",
        "  z = z.astype(float)\n",
        "  z_out = 1/(1 + np.exp(-z))\n",
        "  return z_out"
      ],
      "execution_count": null,
      "outputs": []
    },
    {
      "cell_type": "code",
      "metadata": {
        "id": "6TGyRJKAf-zh"
      },
      "source": [
        "def hypothesis(X, wt):\n",
        "  hyp = sigmoid(np.dot(X, wt.T))\n",
        "  return hyp"
      ],
      "execution_count": null,
      "outputs": []
    },
    {
      "cell_type": "code",
      "metadata": {
        "id": "OM0bj7yagB8e"
      },
      "source": [
        "# function for normalising data\n",
        "def norm(data):\n",
        "  # norm_data = data\n",
        "  mean = np.mean(data, axis = 0)\n",
        "  std = np.std(data, axis = 0)\n",
        "  norm_data = (data-mean)/std\n",
        "  return norm_data"
      ],
      "execution_count": null,
      "outputs": []
    },
    {
      "cell_type": "code",
      "metadata": {
        "id": "W304PySygETV"
      },
      "source": [
        "# function for regularisation\n",
        "def wt_regularisation(lamb, wt, reg):\n",
        "  wt_reg = np.zeros(wt.shape)\n",
        "  if reg == 0:\n",
        "    wt_reg = 0\n",
        "  elif reg == 1:\n",
        "    wt_reg = (lamb/2)*np.sign(wt)\n",
        "  elif reg == 2:\n",
        "    wt_reg = lamb*wt\n",
        "  return wt_reg"
      ],
      "execution_count": null,
      "outputs": []
    },
    {
      "cell_type": "code",
      "metadata": {
        "id": "pqwlj9i8gF-C"
      },
      "source": [
        "def bgd(alpha, lamb, iters, X, y, reg):\n",
        "  w = np.zeros(X.shape[1], dtype=np.longfloat)\n",
        "  for i in range(iters):\n",
        "    hyp = hypothesis(X, wt)\n",
        "    w = w - (alpha/len(y))*(np.dot(hyp - y, X) - wt_regularisation(lamb, w, reg))\n",
        "    # w = w*(1 - (alpha/len(y))*lamb) - (alpha/len(y))*np.dot(hyp - y, X)\n",
        "  return w"
      ],
      "execution_count": null,
      "outputs": []
    },
    {
      "cell_type": "code",
      "metadata": {
        "id": "4ZolsGiRgHqH"
      },
      "source": [
        "def mbgd(alpha, lamb, iters, batch_size, X, y, reg):\n",
        "  w = np.random.rand(X.shape[1])\n",
        "  for i in range(iters):\n",
        "    rand_ind = np.random.randint(len(y))\n",
        "    X_batch = X[rand_ind:rand_ind + batch_size]\n",
        "    y_batch = y[rand_ind:rand_ind + batch_size]\n",
        "    hyp = hypothesis(X_batch, wt)\n",
        "    w = w - (alpha/len(y))*(np.dot(hyp-y_batch, X_batch) - wt_regularisation(lamb, w, reg))\n",
        "  return w"
      ],
      "execution_count": null,
      "outputs": []
    },
    {
      "cell_type": "code",
      "metadata": {
        "id": "f2mfSWUCgJcL"
      },
      "source": [
        "def sgd(alpha, lamb, iters, X, y, reg):\n",
        "  w = np.random.rand(X.shape[1])\n",
        "  for i in range(iters):\n",
        "    rand_ind = np.random.randint(len(y))\n",
        "    X_ind = X[rand_ind:rand_ind + 1]\n",
        "    y_ind = y[rand_ind:rand_ind + 1]\n",
        "    hyp = hypothesis(X_ind, wt)\n",
        "    # print(hyp.shape)\n",
        "    # print(y_ind.shape)\n",
        "    w = w - (alpha/len(y))*(np.dot(hyp - y_ind, X_ind) - wt_regularisation(lamb, w, reg))\n",
        "  return w"
      ],
      "execution_count": null,
      "outputs": []
    },
    {
      "cell_type": "code",
      "metadata": {
        "id": "O-VostHbgLj8"
      },
      "source": [
        "# splitting the data into folds\n",
        "def cross_validation(k, X, y):\n",
        "  # print(len(X))\n",
        "  fold_size = int(len(X)/5)\n",
        "  # print(fold_size)\n",
        "  X_ts = X[k*fold_size:(k+1)*fold_size]\n",
        "  y_ts = y[k*fold_size:(k+1)*fold_size]\n",
        "  X_tr = np.delete(X, slice(k*fold_size, (k+1)*fold_size), axis = 0)\n",
        "  y_tr = np.delete(y, slice(k*fold_size, (k+1)*fold_size), axis = 0)\n",
        "  # print(len(X_ts), len(y_ts))\n",
        "  # print(len(X_tr), len(y_tr))\n",
        "  return X_ts, y_ts, X_tr, y_tr"
      ],
      "execution_count": null,
      "outputs": []
    },
    {
      "cell_type": "code",
      "metadata": {
        "id": "UbfmHSG6gUT-"
      },
      "source": [
        "def classification(X_ts, wt):\n",
        "  m = X_ts.shape[0]\n",
        "  y_sig = hypothesis(X_ts, wt)\n",
        "  # print(y_sig)\n",
        "  y_pred = np.zeros(m)\n",
        "  for i in range(m):\n",
        "    if y_sig[i]>=0.5:\n",
        "      y_pred[i] = 1\n",
        "    elif y_sig[i]<0.5:\n",
        "      y_pred[i] = 0\n",
        "  return y_pred"
      ],
      "execution_count": null,
      "outputs": []
    },
    {
      "cell_type": "code",
      "metadata": {
        "id": "nNt6O5plgarQ"
      },
      "source": [
        "def confusion_mat(y_predicted, y_testing):\n",
        "  conf_mat = np.zeros((3,3))\n",
        "  for i in range(len(y_testing)):\n",
        "    if y_testing[i] == 1:\n",
        "      if y_predicted[i] == 1:\n",
        "        conf_mat [0][0] += 1\n",
        "      if y_predicted[i] == 2:\n",
        "        conf_mat [0][1] += 1\n",
        "      if y_predicted[i] == 3:\n",
        "        conf_mat [0][2] += 1\n",
        "    if y_testing[i] == 2:\n",
        "      if y_predicted[i] == 1:\n",
        "        conf_mat [1][0] += 1\n",
        "      if y_predicted[i] == 2:\n",
        "        conf_mat [1][1] += 1\n",
        "      if y_predicted[i] == 3:\n",
        "        conf_mat [1][2] += 1\n",
        "    if y_testing[i] == 3:\n",
        "      if y_predicted[i] == 1:\n",
        "        conf_mat [2][0] += 1\n",
        "      if y_predicted[i] == 2:\n",
        "        conf_mat [2][1] += 1\n",
        "      if y_predicted[i] == 3:\n",
        "        conf_mat [2][2] += 1\n",
        "  acc1 = conf_mat[ 0 ][ 0 ]/sum(conf_mat[ 0 ])\n",
        "  acc2 = conf_mat[ 1 ][ 1 ]/sum(conf_mat[ 1 ])\n",
        "  acc3 = conf_mat[ 2 ][ 2 ]/sum(conf_mat[ 2 ])\n",
        "  acc = (conf_mat[ 0 ][ 0 ] + conf_mat[ 1 ][ 1 ] + conf_mat[ 2 ][ 2 ])/np.sum(conf_mat)\n",
        "  return acc1, acc2, acc3, acc"
      ],
      "execution_count": null,
      "outputs": []
    },
    {
      "cell_type": "code",
      "metadata": {
        "id": "i6G_BISehC76"
      },
      "source": [
        "# extracting the data and separating\n",
        "data = pd.read_excel(\"data_q6_q7.xlsx\")\n",
        "data = np.asarray(data)\n",
        "np.random.shuffle(data)"
      ],
      "execution_count": null,
      "outputs": []
    },
    {
      "cell_type": "code",
      "metadata": {
        "id": "ssD_rv59hTai"
      },
      "source": [
        "# splitting into input and output\n",
        "X = data[:, :-1]  #input\n",
        "y = data[:,-1]    #output\n",
        "\n",
        "# normalizing X and y\n",
        "X = X.astype(float)\n",
        "X = norm(X)\n",
        "\n",
        "# defining X for regression model\n",
        "m = X.shape[0]\n",
        "one = np.ones([m,1])\n",
        "X = np.append(one, X, axis = 1)"
      ],
      "execution_count": null,
      "outputs": []
    },
    {
      "cell_type": "code",
      "metadata": {
        "id": "tpi2iK5sln4m"
      },
      "source": [
        "def ysplit(y_tr):\n",
        "  y1_tr = [ 1 for i in range(len(y_tr))]\n",
        "  y2_tr = [ 1 for i in range(len(y_tr))]\n",
        "  y3_tr = [ 1 for i in range(len(y_tr))]\n",
        "  for i in range(len(y_tr)):\n",
        "    if (y_tr[i] != 1 ):\n",
        "     y1_tr[i] = 0\n",
        "    if (y_tr[i] != 2 ):\n",
        "      y2_tr[i] = 0\n",
        "    if (y_tr[i] != 3 ):\n",
        "      y3_tr[i] = 0\n",
        "  return y1_tr, y2_tr, y3_tr"
      ],
      "execution_count": null,
      "outputs": []
    },
    {
      "cell_type": "code",
      "metadata": {
        "colab": {
          "base_uri": "https://localhost:8080/"
        },
        "id": "4rCUvc1Vheh1",
        "outputId": "aabff054-dc25-4b27-8cd0-0a2eb8f48969"
      },
      "source": [
        "print('ONE vs ALL')\n",
        "wt = np.random.rand(X.shape[1])\n",
        "ind_acc1 = []\n",
        "ind_acc2 = []\n",
        "ind_acc3 = []\n",
        "overall_acc = []\n",
        "for i in range(5):\n",
        "  X_ts, y_ts, X_tr, y_tr = cross_validation(i, X, y)\n",
        "  a = 0.0005\n",
        "  l = 0.0001\n",
        "  y1_tr, y2_tr, y3_tr = ysplit(y_tr)\n",
        "  wt = bgd(a, l, 1000, X_tr, y1_tr, 0)\n",
        "  yp1 = classification(X_ts, wt)\n",
        "  wt = bgd(a, l, 1000, X_tr, y2_tr, 0)\n",
        "  yp2 = classification(X_ts, wt)\n",
        "  wt = bgd(a, l, 1000, X_tr, y3_tr, 0)\n",
        "  yp3 = classification(X_ts, wt)\n",
        "\n",
        "  cval = [ 0 for i in range(len(y_ts))]\n",
        "  for i in range(len(y_ts)):\n",
        "    if (yp1[i] == 1 ):\n",
        "      cval[i] = 1.0\n",
        "    if (yp2[i] == 1 ):\n",
        "      cval[i] = 2.0\n",
        "    if (yp3[i] == 1 ):\n",
        "      cval[i] = 3.0\n",
        "  for i in range(len(cval)):\n",
        "    if (cval[i] == 0 ):\n",
        "      cval[i] = 'None'\n",
        "  y_actual = pd.Series(y_ts, name= 'Actual' )\n",
        "  y_pred = pd.Series(cval, name= 'Predicted' )\n",
        "\n",
        "  acc1, acc2, acc3, acc = confusion_mat(y_pred, y_ts)\n",
        "\n",
        "  ind_acc1.append(acc1)\n",
        "  ind_acc2.append(acc2)\n",
        "  ind_acc3.append(acc3)\n",
        "  overall_acc.append(acc)\n",
        "\n",
        "\n",
        "print('BGD LOR without regularisation')\n",
        "avg_ind_acc1 = sum(ind_acc1)/len(ind_acc1)\n",
        "avg_ind_acc2 = sum(ind_acc2)/len(ind_acc2)\n",
        "avg_ind_acc3 = sum(ind_acc3)/len(ind_acc3)\n",
        "avg_overall_acc = sum(overall_acc)/len(overall_acc)\n",
        "print(\"Average individual accuracy of class 1:\", avg_ind_acc1)\n",
        "print(\"Average individual accuracy of class 2:\", avg_ind_acc2)\n",
        "print(\"Average individual accuracy of class 3:\", avg_ind_acc3)\n",
        "print(\"Average overall accuracy:\", avg_overall_acc)"
      ],
      "execution_count": null,
      "outputs": [
        {
          "output_type": "stream",
          "name": "stdout",
          "text": [
            "ONE vs ALL\n",
            "BGD LOR without regularisation\n",
            "Average individual accuracy of class 1: 0.26302031302031303\n",
            "Average individual accuracy of class 2: 1.0\n",
            "Average individual accuracy of class 3: 1.0\n",
            "Average overall accuracy: 0.763780487804878\n"
          ]
        }
      ]
    },
    {
      "cell_type": "code",
      "metadata": {
        "colab": {
          "base_uri": "https://localhost:8080/"
        },
        "id": "MdaIb45up8vo",
        "outputId": "8fcf3f55-e912-49e5-f6e2-1958eabd5a5c"
      },
      "source": [
        "wt = np.random.rand(X.shape[1])\n",
        "ind_acc1 = []\n",
        "ind_acc2 = []\n",
        "ind_acc3 = []\n",
        "overall_acc = []\n",
        "for i in range(5):\n",
        "  X_ts, y_ts, X_tr, y_tr = cross_validation(i, X, y)\n",
        "  a = 0.0005\n",
        "  l = 0.0001\n",
        "  y1_tr, y2_tr, y3_tr = ysplit(y_tr)\n",
        "  wt = bgd(a, l, 1000, X_tr, y1_tr, 1)\n",
        "  yp1 = classification(X_ts, wt)\n",
        "  wt = bgd(a, l, 1000, X_tr, y2_tr, 1)\n",
        "  yp2 = classification(X_ts, wt)\n",
        "  wt = bgd(a, l, 1000, X_tr, y3_tr, 1)\n",
        "  yp3 = classification(X_ts, wt)\n",
        "\n",
        "  cval = [ 0 for i in range(len(y_ts))]\n",
        "  for i in range(len(y_ts)):\n",
        "    if (yp1[i] == 1 ):\n",
        "      cval[i] = 1.0\n",
        "    if (yp2[i] == 1 ):\n",
        "      cval[i] = 2.0\n",
        "    if (yp3[i] == 1 ):\n",
        "      cval[i] = 3.0\n",
        "  for i in range(len(cval)):\n",
        "    if (cval[i] == 0 ):\n",
        "      cval[i] = 'None'\n",
        "  y_actual = pd.Series(y_ts, name= 'Actual' )\n",
        "  y_pred = pd.Series(cval, name= 'Predicted' )\n",
        "\n",
        "  acc1, acc2, acc3, acc = confusion_mat(y_pred, y_ts)\n",
        "\n",
        "  ind_acc1.append(acc1)\n",
        "  ind_acc2.append(acc2)\n",
        "  ind_acc3.append(acc3)\n",
        "  overall_acc.append(acc)\n",
        "\n",
        "\n",
        "print('BGD LOR with L1 regularisation')\n",
        "avg_ind_acc1 = sum(ind_acc1)/len(ind_acc1)\n",
        "avg_ind_acc2 = sum(ind_acc2)/len(ind_acc2)\n",
        "avg_ind_acc3 = sum(ind_acc3)/len(ind_acc3)\n",
        "avg_overall_acc = sum(overall_acc)/len(overall_acc)\n",
        "print(\"Average individual accuracy of class 1:\", avg_ind_acc1)\n",
        "print(\"Average individual accuracy of class 2:\", avg_ind_acc2)\n",
        "print(\"Average individual accuracy of class 3:\", avg_ind_acc3)\n",
        "print(\"Average overall accuracy:\", avg_overall_acc)"
      ],
      "execution_count": null,
      "outputs": [
        {
          "output_type": "stream",
          "name": "stdout",
          "text": [
            "BGD LOR with L1 regularisation\n",
            "Average individual accuracy of class 1: 0.3011868686868687\n",
            "Average individual accuracy of class 2: 1.0\n",
            "Average individual accuracy of class 3: 1.0\n",
            "Average overall accuracy: 0.7645121951219512\n"
          ]
        }
      ]
    },
    {
      "cell_type": "code",
      "metadata": {
        "colab": {
          "base_uri": "https://localhost:8080/"
        },
        "id": "Elc5m_K8qMxp",
        "outputId": "95d7c63c-4d1b-476f-f17f-99a622f456d9"
      },
      "source": [
        "wt = np.random.rand(X.shape[1])\n",
        "ind_acc1 = []\n",
        "ind_acc2 = []\n",
        "ind_acc3 = []\n",
        "overall_acc = []\n",
        "for i in range(5):\n",
        "  X_ts, y_ts, X_tr, y_tr = cross_validation(i, X, y)\n",
        "  a = 0.0005\n",
        "  l = 0.0001\n",
        "  y1_tr, y2_tr, y3_tr = ysplit(y_tr)\n",
        "  wt = bgd(a, l, 1000, X_tr, y1_tr, 2)\n",
        "  yp1 = classification(X_ts, wt)\n",
        "  wt = bgd(a, l, 1000, X_tr, y2_tr, 2)\n",
        "  yp2 = classification(X_ts, wt)\n",
        "  wt = bgd(a, l, 1000, X_tr, y3_tr, 2)\n",
        "  yp3 = classification(X_ts, wt)\n",
        "\n",
        "  cval = [ 0 for i in range(len(y_ts))]\n",
        "  for i in range(len(y_ts)):\n",
        "    if (yp1[i] == 1 ):\n",
        "      cval[i] = 1.0\n",
        "    if (yp2[i] == 1 ):\n",
        "      cval[i] = 2.0\n",
        "    if (yp3[i] == 1 ):\n",
        "      cval[i] = 3.0\n",
        "  for i in range(len(cval)):\n",
        "    if (cval[i] == 0 ):\n",
        "      cval[i] = 'None'\n",
        "  y_actual = pd.Series(y_ts, name= 'Actual' )\n",
        "  y_pred = pd.Series(cval, name= 'Predicted' )\n",
        "\n",
        "  acc1, acc2, acc3, acc = confusion_mat(y_pred, y_ts)\n",
        "\n",
        "  ind_acc1.append(acc1)\n",
        "  ind_acc2.append(acc2)\n",
        "  ind_acc3.append(acc3)\n",
        "  overall_acc.append(acc)\n",
        "\n",
        "\n",
        "print('BGD LOR with L2 regularisation')\n",
        "avg_ind_acc1 = sum(ind_acc1)/len(ind_acc1)\n",
        "avg_ind_acc2 = sum(ind_acc2)/len(ind_acc2)\n",
        "avg_ind_acc3 = sum(ind_acc3)/len(ind_acc3)\n",
        "avg_overall_acc = sum(overall_acc)/len(overall_acc)\n",
        "print(\"Average individual accuracy of class 1:\", avg_ind_acc1)\n",
        "print(\"Average individual accuracy of class 2:\", avg_ind_acc2)\n",
        "print(\"Average individual accuracy of class 3:\", avg_ind_acc3)\n",
        "print(\"Average overall accuracy:\", avg_overall_acc)"
      ],
      "execution_count": null,
      "outputs": [
        {
          "output_type": "stream",
          "name": "stdout",
          "text": [
            "BGD LOR with L2 regularisation\n",
            "Average individual accuracy of class 1: 0.26302031302031303\n",
            "Average individual accuracy of class 2: 1.0\n",
            "Average individual accuracy of class 3: 1.0\n",
            "Average overall accuracy: 0.763780487804878\n"
          ]
        }
      ]
    },
    {
      "cell_type": "code",
      "metadata": {
        "colab": {
          "base_uri": "https://localhost:8080/"
        },
        "id": "bwd74BywqTF8",
        "outputId": "8071ef3d-3654-4baa-c8e8-edf4c5151d94"
      },
      "source": [
        "wt = np.random.rand(X.shape[1])\n",
        "ind_acc1 = []\n",
        "ind_acc2 = []\n",
        "ind_acc3 = []\n",
        "overall_acc = []\n",
        "for i in range(5):\n",
        "  X_ts, y_ts, X_tr, y_tr = cross_validation(i, X, y)\n",
        "  a = 0.0005\n",
        "  l = 0.0001\n",
        "  y1_tr, y2_tr, y3_tr = ysplit(y_tr)\n",
        "  wt = sgd(a, l, 2000, X_tr, y1_tr, 0)\n",
        "  yp1 = classification(X_ts, wt)\n",
        "  wt = sgd(a, l, 1000, X_tr, y2_tr, 0)\n",
        "  yp2 = classification(X_ts, wt)\n",
        "  wt = sgd(a, l, 1000, X_tr, y3_tr, 0)\n",
        "  yp3 = classification(X_ts, wt)\n",
        "\n",
        "  cval = [ 0 for i in range(len(y_ts))]\n",
        "  for i in range(len(y_ts)):\n",
        "    if (yp1[i] == 1 ):\n",
        "      cval[i] = 1.0\n",
        "    if (yp2[i] == 1 ):\n",
        "      cval[i] = 2.0\n",
        "    if (yp3[i] == 1 ):\n",
        "      cval[i] = 3.0\n",
        "  for i in range(len(cval)):\n",
        "    if (cval[i] == 0 ):\n",
        "      cval[i] = 'None'\n",
        "  y_actual = pd.Series(y_ts, name= 'Actual' )\n",
        "  y_pred = pd.Series(cval, name= 'Predicted' )\n",
        "\n",
        "  acc1, acc2, acc3, acc = confusion_mat(y_pred, y_ts)\n",
        "\n",
        "  ind_acc1.append(acc1)\n",
        "  ind_acc2.append(acc2)\n",
        "  ind_acc3.append(acc3)\n",
        "  overall_acc.append(acc)\n",
        "\n",
        "\n",
        "print('SGD LOR without regularisation')\n",
        "avg_ind_acc1 = sum(ind_acc1)/len(ind_acc1)\n",
        "avg_ind_acc2 = sum(ind_acc2)/len(ind_acc2)\n",
        "avg_ind_acc3 = sum(ind_acc3)/len(ind_acc3)\n",
        "avg_overall_acc = sum(overall_acc)/len(overall_acc)\n",
        "print(\"Average individual accuracy of class 1:\", avg_ind_acc1)\n",
        "print(\"Average individual accuracy of class 2:\", avg_ind_acc2)\n",
        "print(\"Average individual accuracy of class 3:\", avg_ind_acc3)\n",
        "print(\"Average overall accuracy:\", avg_overall_acc)"
      ],
      "execution_count": null,
      "outputs": [
        {
          "output_type": "stream",
          "name": "stdout",
          "text": [
            "SGD LOR without regularisation\n",
            "Average individual accuracy of class 1: 0.025\n",
            "Average individual accuracy of class 2: 0.015384615384615385\n",
            "Average individual accuracy of class 3: 0.7\n",
            "Average overall accuracy: 0.08838915470494417\n"
          ]
        }
      ]
    },
    {
      "cell_type": "code",
      "metadata": {
        "colab": {
          "base_uri": "https://localhost:8080/"
        },
        "id": "aYpc9I6WqYXs",
        "outputId": "e03d439e-9e35-4bbf-b906-37567a6b4354"
      },
      "source": [
        "wt = np.random.rand(X.shape[1])\n",
        "ind_acc1 = []\n",
        "ind_acc2 = []\n",
        "ind_acc3 = []\n",
        "overall_acc = []\n",
        "for i in range(5):\n",
        "  X_ts, y_ts, X_tr, y_tr = cross_validation(i, X, y)\n",
        "  a = 0.0005\n",
        "  l = 0.0001\n",
        "  y1_tr, y2_tr, y3_tr = ysplit(y_tr)\n",
        "  wt = sgd(a, l, 2000, X_tr, y1_tr, 1)\n",
        "  yp1 = classification(X_ts, wt)\n",
        "  wt = sgd(a, l, 2000, X_tr, y2_tr, 1)\n",
        "  yp2 = classification(X_ts, wt)\n",
        "  wt = sgd(a, l, 5000, X_tr, y3_tr, 1)\n",
        "  yp3 = classification(X_ts, wt)\n",
        "\n",
        "  cval = [ 0 for i in range(len(y_ts))]\n",
        "  for i in range(len(y_ts)):\n",
        "    if (yp1[i] == 1 ):\n",
        "      cval[i] = 1.0\n",
        "    if (yp2[i] == 1 ):\n",
        "      cval[i] = 2.0\n",
        "    if (yp3[i] == 1 ):\n",
        "      cval[i] = 3.0\n",
        "  for i in range(len(cval)):\n",
        "    if (cval[i] == 0 ):\n",
        "      cval[i] = 'None'\n",
        "  y_actual = pd.Series(y_ts, name= 'Actual' )\n",
        "  y_pred = pd.Series(cval, name= 'Predicted' )\n",
        "\n",
        "  acc1, acc2, acc3, acc = confusion_mat(y_pred, y_ts)\n",
        "\n",
        "  ind_acc1.append(acc1)\n",
        "  ind_acc2.append(acc2)\n",
        "  ind_acc3.append(acc3)\n",
        "  overall_acc.append(acc)\n",
        "\n",
        "\n",
        "print('SGD LOR with L1 regularisation')\n",
        "avg_ind_acc1 = sum(ind_acc1)/len(ind_acc1)\n",
        "avg_ind_acc2 = sum(ind_acc2)/len(ind_acc2)\n",
        "avg_ind_acc3 = sum(ind_acc3)/len(ind_acc3)\n",
        "avg_overall_acc = sum(overall_acc)/len(overall_acc)\n",
        "print(\"Average individual accuracy of class 1:\", avg_ind_acc1)\n",
        "print(\"Average individual accuracy of class 2:\", avg_ind_acc2)\n",
        "print(\"Average individual accuracy of class 3:\", avg_ind_acc3)\n",
        "print(\"Average overall accuracy:\", avg_overall_acc)"
      ],
      "execution_count": null,
      "outputs": [
        {
          "output_type": "stream",
          "name": "stdout",
          "text": [
            "SGD LOR with L1 regularisation\n",
            "Average individual accuracy of class 1: 0.07222222222222222\n",
            "Average individual accuracy of class 2: 0.0\n",
            "Average individual accuracy of class 3: 0.6485714285714286\n",
            "Average overall accuracy: 0.07192355330503998\n"
          ]
        }
      ]
    },
    {
      "cell_type": "code",
      "metadata": {
        "colab": {
          "base_uri": "https://localhost:8080/"
        },
        "id": "z6vddzyIsC7L",
        "outputId": "2501e36f-7844-41e3-a8c6-add89ac1a15e"
      },
      "source": [
        "wt = np.random.rand(X.shape[1])\n",
        "ind_acc1 = []\n",
        "ind_acc2 = []\n",
        "ind_acc3 = []\n",
        "overall_acc = []\n",
        "for i in range(5):\n",
        "  X_ts, y_ts, X_tr, y_tr = cross_validation(i, X, y)\n",
        "  a = 0.0005\n",
        "  l = 0.0001\n",
        "  y1_tr, y2_tr, y3_tr = ysplit(y_tr)\n",
        "  wt = sgd(a, l, 2000, X_tr, y1_tr, 2)\n",
        "  yp1 = classification(X_ts, wt)\n",
        "  wt = sgd(a, l, 2000, X_tr, y2_tr, 2)\n",
        "  yp2 = classification(X_ts, wt)\n",
        "  wt = sgd(a, l, 4000, X_tr, y3_tr, 2)\n",
        "  yp3 = classification(X_ts, wt)\n",
        "\n",
        "  cval = [ 0 for i in range(len(y_ts))]\n",
        "  for i in range(len(y_ts)):\n",
        "    if (yp1[i] == 1 ):\n",
        "      cval[i] = 1.0\n",
        "    if (yp2[i] == 1 ):\n",
        "      cval[i] = 2.0\n",
        "    if (yp3[i] == 1 ):\n",
        "      cval[i] = 3.0\n",
        "  for i in range(len(cval)):\n",
        "    if (cval[i] == 0 ):\n",
        "      cval[i] = 'None'\n",
        "  y_actual = pd.Series(y_ts, name= 'Actual' )\n",
        "  y_pred = pd.Series(cval, name= 'Predicted' )\n",
        "\n",
        "  acc1, acc2, acc3, acc = confusion_mat(y_pred, y_ts)\n",
        "\n",
        "  ind_acc1.append(acc1)\n",
        "  ind_acc2.append(acc2)\n",
        "  ind_acc3.append(acc3)\n",
        "  overall_acc.append(acc)\n",
        "\n",
        "\n",
        "print('SGD LOR with L2 regularisation')\n",
        "avg_ind_acc1 = sum(ind_acc1)/len(ind_acc1)\n",
        "avg_ind_acc2 = sum(ind_acc2)/len(ind_acc2)\n",
        "avg_ind_acc3 = sum(ind_acc3)/len(ind_acc3)\n",
        "avg_overall_acc = sum(overall_acc)/len(overall_acc)\n",
        "print(\"Average individual accuracy of class 1:\", avg_ind_acc1)\n",
        "print(\"Average individual accuracy of class 2:\", avg_ind_acc2)\n",
        "print(\"Average individual accuracy of class 3:\", avg_ind_acc3)\n",
        "print(\"Average overall accuracy:\", avg_overall_acc)"
      ],
      "execution_count": null,
      "outputs": [
        {
          "output_type": "stream",
          "name": "stdout",
          "text": [
            "SGD LOR with L2 regularisation\n",
            "Average individual accuracy of class 1: 0.2\n",
            "Average individual accuracy of class 2: 0.0\n",
            "Average individual accuracy of class 3: 0.35\n",
            "Average overall accuracy: 0.07942402425161045\n"
          ]
        }
      ]
    },
    {
      "cell_type": "code",
      "metadata": {
        "colab": {
          "base_uri": "https://localhost:8080/"
        },
        "id": "iGqJskvusVRx",
        "outputId": "6fa21ce1-e004-4d86-dbab-42ef7d2fcd0b"
      },
      "source": [
        "wt = np.random.rand(X.shape[1])\n",
        "ind_acc1 = []\n",
        "ind_acc2 = []\n",
        "ind_acc3 = []\n",
        "overall_acc = []\n",
        "for i in range(5):\n",
        "  X_ts, y_ts, X_tr, y_tr = cross_validation(i, X, y)\n",
        "  a = 0.0005\n",
        "  l = 0.0001\n",
        "  y1_tr, y2_tr, y3_tr = ysplit(y_tr)\n",
        "  wt = mbgd(a, l, 1000, 20, X_tr, y1_tr, 0)\n",
        "  yp1 = classification(X_ts, wt)\n",
        "  wt = mbgd(a, l, 1000, 20, X_tr, y2_tr, 0)\n",
        "  yp2 = classification(X_ts, wt)\n",
        "  wt = mbgd(a, l, 1000, 20, X_tr, y3_tr, 0)\n",
        "  yp3 = classification(X_ts, wt)\n",
        "\n",
        "  cval = [ 0 for i in range(len(y_ts))]\n",
        "  for i in range(len(y_ts)):\n",
        "    if (yp1[i] == 1 ):\n",
        "      cval[i] = 1.0\n",
        "    elif (yp2[i] == 1 ):\n",
        "      cval[i] = 2.0\n",
        "    elif (yp3[i] == 1 ):\n",
        "      cval[i] = 3.0\n",
        "  for i in range(len(cval)):\n",
        "    if (cval[i] == 0 ):\n",
        "      cval[i] = 'None'\n",
        "  y_actual = pd.Series(y_ts, name= 'Actual' )\n",
        "  y_pred = pd.Series(cval, name= 'Predicted' )\n",
        "\n",
        "  acc1, acc2, acc3, acc = confusion_mat(y_pred, y_ts)\n",
        "\n",
        "  ind_acc1.append(acc1)\n",
        "  ind_acc2.append(acc2)\n",
        "  ind_acc3.append(acc3)\n",
        "  overall_acc.append(acc)\n",
        "\n",
        "\n",
        "print('MBGD LOR without regularisation')\n",
        "avg_ind_acc1 = sum(ind_acc1)/len(ind_acc1)\n",
        "avg_ind_acc2 = sum(ind_acc2)/len(ind_acc2)\n",
        "avg_ind_acc3 = sum(ind_acc3)/len(ind_acc3)\n",
        "avg_overall_acc = sum(overall_acc)/len(overall_acc)\n",
        "print(\"Average individual accuracy of class 1:\", avg_ind_acc1)\n",
        "print(\"Average individual accuracy of class 2:\", avg_ind_acc2)\n",
        "print(\"Average individual accuracy of class 3:\", avg_ind_acc3)\n",
        "print(\"Average overall accuracy:\", avg_overall_acc)"
      ],
      "execution_count": null,
      "outputs": [
        {
          "output_type": "stream",
          "name": "stdout",
          "text": [
            "MBGD LOR without regularisation\n",
            "Average individual accuracy of class 1: 0.9527777777777778\n",
            "Average individual accuracy of class 2: 0.0\n",
            "Average individual accuracy of class 3: 0.0\n",
            "Average overall accuracy: 0.31354212454212455\n"
          ]
        }
      ]
    },
    {
      "cell_type": "code",
      "metadata": {
        "colab": {
          "base_uri": "https://localhost:8080/"
        },
        "id": "RHMb-0dEsbgt",
        "outputId": "2c7d1a1b-8d34-449b-8416-df49b01c9c09"
      },
      "source": [
        "wt = np.random.rand(X.shape[1])\n",
        "ind_acc1 = []\n",
        "ind_acc2 = []\n",
        "ind_acc3 = []\n",
        "overall_acc = []\n",
        "for i in range(5):\n",
        "  X_ts, y_ts, X_tr, y_tr = cross_validation(i, X, y)\n",
        "  a = 0.0005\n",
        "  l = 0.0001\n",
        "  y1_tr, y2_tr, y3_tr = ysplit(y_tr)\n",
        "  wt = mbgd(a, l, 1000, 20, X_tr, y1_tr, 1)\n",
        "  yp1 = classification(X_ts, wt)\n",
        "  wt = mbgd(a, l, 1000, 20, X_tr, y2_tr, 1)\n",
        "  yp2 = classification(X_ts, wt)\n",
        "  wt = mbgd(a, l, 1000, 20, X_tr, y3_tr, 1)\n",
        "  yp3 = classification(X_ts, wt)\n",
        "\n",
        "  cval = [ 0 for i in range(len(y_ts))]\n",
        "  for i in range(len(y_ts)):\n",
        "    if (yp1[i] == 1 ):\n",
        "      cval[i] = 1.0\n",
        "    elif (yp2[i] == 1 ):\n",
        "      cval[i] = 2.0\n",
        "    elif (yp3[i] == 1 ):\n",
        "      cval[i] = 3.0\n",
        "  for i in range(len(cval)):\n",
        "    if (cval[i] == 0 ):\n",
        "      cval[i] = 'None'\n",
        "  y_actual = pd.Series(y_ts)\n",
        "  y_pred = pd.Series(cval )\n",
        "\n",
        "  acc1, acc2, acc3, acc = confusion_mat(y_pred, y_ts)\n",
        "\n",
        "  ind_acc1.append(acc1)\n",
        "  ind_acc2.append(acc2)\n",
        "  ind_acc3.append(acc3)\n",
        "  overall_acc.append(acc)\n",
        "\n",
        "\n",
        "print('MBGD LOR with L1 regularisation')\n",
        "avg_ind_acc1 = sum(ind_acc1)/len(ind_acc1)\n",
        "avg_ind_acc2 = sum(ind_acc2)/len(ind_acc2)\n",
        "avg_ind_acc3 = sum(ind_acc3)/len(ind_acc3)\n",
        "avg_overall_acc = sum(overall_acc)/len(overall_acc)\n",
        "print(\"Average individual accuracy of class 1:\", avg_ind_acc1)\n",
        "print(\"Average individual accuracy of class 2:\", avg_ind_acc2)\n",
        "print(\"Average individual accuracy of class 3:\", avg_ind_acc3)\n",
        "print(\"Average overall accuracy:\", avg_overall_acc)"
      ],
      "execution_count": null,
      "outputs": [
        {
          "output_type": "stream",
          "name": "stdout",
          "text": [
            "MBGD LOR with L1 regularisation\n",
            "Average individual accuracy of class 1: 0.8466666666666665\n",
            "Average individual accuracy of class 2: 0.0\n",
            "Average individual accuracy of class 3: 0.2\n",
            "Average overall accuracy: 0.318686106921401\n"
          ]
        }
      ]
    },
    {
      "cell_type": "code",
      "metadata": {
        "colab": {
          "base_uri": "https://localhost:8080/"
        },
        "id": "ljwYagv9tCl3",
        "outputId": "75a1e850-c9c0-4177-ffe8-1b406d96a546"
      },
      "source": [
        "wt = np.random.rand(X.shape[1])\n",
        "ind_acc1 = []\n",
        "ind_acc2 = []\n",
        "ind_acc3 = []\n",
        "overall_acc = []\n",
        "for i in range(5):\n",
        "  X_ts, y_ts, X_tr, y_tr = cross_validation(i, X, y)\n",
        "  a = 0.0005\n",
        "  l = 0.0001\n",
        "  y1_tr, y2_tr, y3_tr = ysplit(y_tr)\n",
        "  wt = mbgd(a, l, 1000, 20, X_tr, y1_tr, 2)\n",
        "  yp1 = classification(X_ts, wt)\n",
        "  wt = mbgd(a, l, 1000, 20, X_tr, y2_tr, 2)\n",
        "  yp2 = classification(X_ts, wt)\n",
        "  wt = mbgd(a, l, 1000, 20, X_tr, y3_tr, 2)\n",
        "  yp3 = classification(X_ts, wt)\n",
        "\n",
        "  cval = [ 0 for i in range(len(y_ts))]\n",
        "  for i in range(len(y_ts)):\n",
        "    if (yp1[i] == 1 ):\n",
        "      cval[i] = 1.0\n",
        "    elif (yp2[i] == 1 ):\n",
        "      cval[i] = 2.0\n",
        "    elif (yp3[i] == 1 ):\n",
        "      cval[i] = 3.0\n",
        "  for i in range(len(cval)):\n",
        "    if (cval[i] == 0 ):\n",
        "      cval[i] = 'None'\n",
        "  y_actual = pd.Series(y_ts)\n",
        "  y_pred = pd.Series(cval )\n",
        "\n",
        "  acc1, acc2, acc3, acc = confusion_mat(y_pred, y_ts)\n",
        "\n",
        "  ind_acc1.append(acc1)\n",
        "  ind_acc2.append(acc2)\n",
        "  ind_acc3.append(acc3)\n",
        "  overall_acc.append(acc)\n",
        "\n",
        "\n",
        "print('MBGD LOR with L2 regularisation')\n",
        "avg_ind_acc1 = sum(ind_acc1)/len(ind_acc1)\n",
        "avg_ind_acc2 = sum(ind_acc2)/len(ind_acc2)\n",
        "avg_ind_acc3 = sum(ind_acc3)/len(ind_acc3)\n",
        "avg_overall_acc = sum(overall_acc)/len(overall_acc)\n",
        "print(\"Average individual accuracy of class 1:\", avg_ind_acc1)\n",
        "print(\"Average individual accuracy of class 2:\", avg_ind_acc2)\n",
        "print(\"Average individual accuracy of class 3:\", avg_ind_acc3)\n",
        "print(\"Average overall accuracy:\", avg_overall_acc)"
      ],
      "execution_count": null,
      "outputs": [
        {
          "output_type": "stream",
          "name": "stdout",
          "text": [
            "MBGD LOR with L2 regularisation\n",
            "Average individual accuracy of class 1: 0.6900000000000001\n",
            "Average individual accuracy of class 2: 0.0\n",
            "Average individual accuracy of class 3: 0.0\n",
            "Average overall accuracy: 0.2178567936005007\n"
          ]
        }
      ]
    },
    {
      "cell_type": "code",
      "metadata": {
        "id": "iViMERP7tIez"
      },
      "source": [],
      "execution_count": null,
      "outputs": []
    }
  ]
}