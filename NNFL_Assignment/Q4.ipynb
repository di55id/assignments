{
  "nbformat": 4,
  "nbformat_minor": 0,
  "metadata": {
    "colab": {
      "provenance": []
    },
    "kernelspec": {
      "name": "python3",
      "display_name": "Python 3"
    },
    "language_info": {
      "name": "python"
    }
  },
  "cells": [
    {
      "cell_type": "markdown",
      "metadata": {
        "id": "PacZgcInoYEy"
      },
      "source": [
        "Q4. Implement logistic regression (LOR), LOR with L2-norm regularization, and LOR\n",
        "with L1-norm regularization models using BGD, SGD, and MBGD algorithms. The\n",
        "dataset in data_q4_q5.xlsx contains 30 features and one output. The class label ‘M’\n",
        "stands for malignant, and ‘B’ is the Benign class. You must use hold-out\n",
        "cross-validation ((CV) with 70% as training, 10% as validation and 20% as testing) to\n",
        "evaluate training, validation, and testing instances for each model. Evaluate the\n",
        "performance of each model using accuracy, sensitivity, and specificity measures."
      ]
    },
    {
      "cell_type": "code",
      "metadata": {
        "id": "fPwLL2DmoMpd"
      },
      "source": [
        "import pandas as pd\n",
        "import math\n",
        "import numpy as np\n",
        "import matplotlib.pyplot as plt"
      ],
      "execution_count": null,
      "outputs": []
    },
    {
      "cell_type": "code",
      "metadata": {
        "colab": {
          "resources": {
            "http://localhost:8080/nbextensions/google.colab/files.js": {
              "data": "Ly8gQ29weXJpZ2h0IDIwMTcgR29vZ2xlIExMQwovLwovLyBMaWNlbnNlZCB1bmRlciB0aGUgQXBhY2hlIExpY2Vuc2UsIFZlcnNpb24gMi4wICh0aGUgIkxpY2Vuc2UiKTsKLy8geW91IG1heSBub3QgdXNlIHRoaXMgZmlsZSBleGNlcHQgaW4gY29tcGxpYW5jZSB3aXRoIHRoZSBMaWNlbnNlLgovLyBZb3UgbWF5IG9idGFpbiBhIGNvcHkgb2YgdGhlIExpY2Vuc2UgYXQKLy8KLy8gICAgICBodHRwOi8vd3d3LmFwYWNoZS5vcmcvbGljZW5zZXMvTElDRU5TRS0yLjAKLy8KLy8gVW5sZXNzIHJlcXVpcmVkIGJ5IGFwcGxpY2FibGUgbGF3IG9yIGFncmVlZCB0byBpbiB3cml0aW5nLCBzb2Z0d2FyZQovLyBkaXN0cmlidXRlZCB1bmRlciB0aGUgTGljZW5zZSBpcyBkaXN0cmlidXRlZCBvbiBhbiAiQVMgSVMiIEJBU0lTLAovLyBXSVRIT1VUIFdBUlJBTlRJRVMgT1IgQ09ORElUSU9OUyBPRiBBTlkgS0lORCwgZWl0aGVyIGV4cHJlc3Mgb3IgaW1wbGllZC4KLy8gU2VlIHRoZSBMaWNlbnNlIGZvciB0aGUgc3BlY2lmaWMgbGFuZ3VhZ2UgZ292ZXJuaW5nIHBlcm1pc3Npb25zIGFuZAovLyBsaW1pdGF0aW9ucyB1bmRlciB0aGUgTGljZW5zZS4KCi8qKgogKiBAZmlsZW92ZXJ2aWV3IEhlbHBlcnMgZm9yIGdvb2dsZS5jb2xhYiBQeXRob24gbW9kdWxlLgogKi8KKGZ1bmN0aW9uKHNjb3BlKSB7CmZ1bmN0aW9uIHNwYW4odGV4dCwgc3R5bGVBdHRyaWJ1dGVzID0ge30pIHsKICBjb25zdCBlbGVtZW50ID0gZG9jdW1lbnQuY3JlYXRlRWxlbWVudCgnc3BhbicpOwogIGVsZW1lbnQudGV4dENvbnRlbnQgPSB0ZXh0OwogIGZvciAoY29uc3Qga2V5IG9mIE9iamVjdC5rZXlzKHN0eWxlQXR0cmlidXRlcykpIHsKICAgIGVsZW1lbnQuc3R5bGVba2V5XSA9IHN0eWxlQXR0cmlidXRlc1trZXldOwogIH0KICByZXR1cm4gZWxlbWVudDsKfQoKLy8gTWF4IG51bWJlciBvZiBieXRlcyB3aGljaCB3aWxsIGJlIHVwbG9hZGVkIGF0IGEgdGltZS4KY29uc3QgTUFYX1BBWUxPQURfU0laRSA9IDEwMCAqIDEwMjQ7CgpmdW5jdGlvbiBfdXBsb2FkRmlsZXMoaW5wdXRJZCwgb3V0cHV0SWQpIHsKICBjb25zdCBzdGVwcyA9IHVwbG9hZEZpbGVzU3RlcChpbnB1dElkLCBvdXRwdXRJZCk7CiAgY29uc3Qgb3V0cHV0RWxlbWVudCA9IGRvY3VtZW50LmdldEVsZW1lbnRCeUlkKG91dHB1dElkKTsKICAvLyBDYWNoZSBzdGVwcyBvbiB0aGUgb3V0cHV0RWxlbWVudCB0byBtYWtlIGl0IGF2YWlsYWJsZSBmb3IgdGhlIG5leHQgY2FsbAogIC8vIHRvIHVwbG9hZEZpbGVzQ29udGludWUgZnJvbSBQeXRob24uCiAgb3V0cHV0RWxlbWVudC5zdGVwcyA9IHN0ZXBzOwoKICByZXR1cm4gX3VwbG9hZEZpbGVzQ29udGludWUob3V0cHV0SWQpOwp9CgovLyBUaGlzIGlzIHJvdWdobHkgYW4gYXN5bmMgZ2VuZXJhdG9yIChub3Qgc3VwcG9ydGVkIGluIHRoZSBicm93c2VyIHlldCksCi8vIHdoZXJlIHRoZXJlIGFyZSBtdWx0aXBsZSBhc3luY2hyb25vdXMgc3RlcHMgYW5kIHRoZSBQeXRob24gc2lkZSBpcyBnb2luZwovLyB0byBwb2xsIGZvciBjb21wbGV0aW9uIG9mIGVhY2ggc3RlcC4KLy8gVGhpcyB1c2VzIGEgUHJvbWlzZSB0byBibG9jayB0aGUgcHl0aG9uIHNpZGUgb24gY29tcGxldGlvbiBvZiBlYWNoIHN0ZXAsCi8vIHRoZW4gcGFzc2VzIHRoZSByZXN1bHQgb2YgdGhlIHByZXZpb3VzIHN0ZXAgYXMgdGhlIGlucHV0IHRvIHRoZSBuZXh0IHN0ZXAuCmZ1bmN0aW9uIF91cGxvYWRGaWxlc0NvbnRpbnVlKG91dHB1dElkKSB7CiAgY29uc3Qgb3V0cHV0RWxlbWVudCA9IGRvY3VtZW50LmdldEVsZW1lbnRCeUlkKG91dHB1dElkKTsKICBjb25zdCBzdGVwcyA9IG91dHB1dEVsZW1lbnQuc3RlcHM7CgogIGNvbnN0IG5leHQgPSBzdGVwcy5uZXh0KG91dHB1dEVsZW1lbnQubGFzdFByb21pc2VWYWx1ZSk7CiAgcmV0dXJuIFByb21pc2UucmVzb2x2ZShuZXh0LnZhbHVlLnByb21pc2UpLnRoZW4oKHZhbHVlKSA9PiB7CiAgICAvLyBDYWNoZSB0aGUgbGFzdCBwcm9taXNlIHZhbHVlIHRvIG1ha2UgaXQgYXZhaWxhYmxlIHRvIHRoZSBuZXh0CiAgICAvLyBzdGVwIG9mIHRoZSBnZW5lcmF0b3IuCiAgICBvdXRwdXRFbGVtZW50Lmxhc3RQcm9taXNlVmFsdWUgPSB2YWx1ZTsKICAgIHJldHVybiBuZXh0LnZhbHVlLnJlc3BvbnNlOwogIH0pOwp9CgovKioKICogR2VuZXJhdG9yIGZ1bmN0aW9uIHdoaWNoIGlzIGNhbGxlZCBiZXR3ZWVuIGVhY2ggYXN5bmMgc3RlcCBvZiB0aGUgdXBsb2FkCiAqIHByb2Nlc3MuCiAqIEBwYXJhbSB7c3RyaW5nfSBpbnB1dElkIEVsZW1lbnQgSUQgb2YgdGhlIGlucHV0IGZpbGUgcGlja2VyIGVsZW1lbnQuCiAqIEBwYXJhbSB7c3RyaW5nfSBvdXRwdXRJZCBFbGVtZW50IElEIG9mIHRoZSBvdXRwdXQgZGlzcGxheS4KICogQHJldHVybiB7IUl0ZXJhYmxlPCFPYmplY3Q+fSBJdGVyYWJsZSBvZiBuZXh0IHN0ZXBzLgogKi8KZnVuY3Rpb24qIHVwbG9hZEZpbGVzU3RlcChpbnB1dElkLCBvdXRwdXRJZCkgewogIGNvbnN0IGlucHV0RWxlbWVudCA9IGRvY3VtZW50LmdldEVsZW1lbnRCeUlkKGlucHV0SWQpOwogIGlucHV0RWxlbWVudC5kaXNhYmxlZCA9IGZhbHNlOwoKICBjb25zdCBvdXRwdXRFbGVtZW50ID0gZG9jdW1lbnQuZ2V0RWxlbWVudEJ5SWQob3V0cHV0SWQpOwogIG91dHB1dEVsZW1lbnQuaW5uZXJIVE1MID0gJyc7CgogIGNvbnN0IHBpY2tlZFByb21pc2UgPSBuZXcgUHJvbWlzZSgocmVzb2x2ZSkgPT4gewogICAgaW5wdXRFbGVtZW50LmFkZEV2ZW50TGlzdGVuZXIoJ2NoYW5nZScsIChlKSA9PiB7CiAgICAgIHJlc29sdmUoZS50YXJnZXQuZmlsZXMpOwogICAgfSk7CiAgfSk7CgogIGNvbnN0IGNhbmNlbCA9IGRvY3VtZW50LmNyZWF0ZUVsZW1lbnQoJ2J1dHRvbicpOwogIGlucHV0RWxlbWVudC5wYXJlbnRFbGVtZW50LmFwcGVuZENoaWxkKGNhbmNlbCk7CiAgY2FuY2VsLnRleHRDb250ZW50ID0gJ0NhbmNlbCB1cGxvYWQnOwogIGNvbnN0IGNhbmNlbFByb21pc2UgPSBuZXcgUHJvbWlzZSgocmVzb2x2ZSkgPT4gewogICAgY2FuY2VsLm9uY2xpY2sgPSAoKSA9PiB7CiAgICAgIHJlc29sdmUobnVsbCk7CiAgICB9OwogIH0pOwoKICAvLyBXYWl0IGZvciB0aGUgdXNlciB0byBwaWNrIHRoZSBmaWxlcy4KICBjb25zdCBmaWxlcyA9IHlpZWxkIHsKICAgIHByb21pc2U6IFByb21pc2UucmFjZShbcGlja2VkUHJvbWlzZSwgY2FuY2VsUHJvbWlzZV0pLAogICAgcmVzcG9uc2U6IHsKICAgICAgYWN0aW9uOiAnc3RhcnRpbmcnLAogICAgfQogIH07CgogIGNhbmNlbC5yZW1vdmUoKTsKCiAgLy8gRGlzYWJsZSB0aGUgaW5wdXQgZWxlbWVudCBzaW5jZSBmdXJ0aGVyIHBpY2tzIGFyZSBub3QgYWxsb3dlZC4KICBpbnB1dEVsZW1lbnQuZGlzYWJsZWQgPSB0cnVlOwoKICBpZiAoIWZpbGVzKSB7CiAgICByZXR1cm4gewogICAgICByZXNwb25zZTogewogICAgICAgIGFjdGlvbjogJ2NvbXBsZXRlJywKICAgICAgfQogICAgfTsKICB9CgogIGZvciAoY29uc3QgZmlsZSBvZiBmaWxlcykgewogICAgY29uc3QgbGkgPSBkb2N1bWVudC5jcmVhdGVFbGVtZW50KCdsaScpOwogICAgbGkuYXBwZW5kKHNwYW4oZmlsZS5uYW1lLCB7Zm9udFdlaWdodDogJ2JvbGQnfSkpOwogICAgbGkuYXBwZW5kKHNwYW4oCiAgICAgICAgYCgke2ZpbGUudHlwZSB8fCAnbi9hJ30pIC0gJHtmaWxlLnNpemV9IGJ5dGVzLCBgICsKICAgICAgICBgbGFzdCBtb2RpZmllZDogJHsKICAgICAgICAgICAgZmlsZS5sYXN0TW9kaWZpZWREYXRlID8gZmlsZS5sYXN0TW9kaWZpZWREYXRlLnRvTG9jYWxlRGF0ZVN0cmluZygpIDoKICAgICAgICAgICAgICAgICAgICAgICAgICAgICAgICAgICAgJ24vYSd9IC0gYCkpOwogICAgY29uc3QgcGVyY2VudCA9IHNwYW4oJzAlIGRvbmUnKTsKICAgIGxpLmFwcGVuZENoaWxkKHBlcmNlbnQpOwoKICAgIG91dHB1dEVsZW1lbnQuYXBwZW5kQ2hpbGQobGkpOwoKICAgIGNvbnN0IGZpbGVEYXRhUHJvbWlzZSA9IG5ldyBQcm9taXNlKChyZXNvbHZlKSA9PiB7CiAgICAgIGNvbnN0IHJlYWRlciA9IG5ldyBGaWxlUmVhZGVyKCk7CiAgICAgIHJlYWRlci5vbmxvYWQgPSAoZSkgPT4gewogICAgICAgIHJlc29sdmUoZS50YXJnZXQucmVzdWx0KTsKICAgICAgfTsKICAgICAgcmVhZGVyLnJlYWRBc0FycmF5QnVmZmVyKGZpbGUpOwogICAgfSk7CiAgICAvLyBXYWl0IGZvciB0aGUgZGF0YSB0byBiZSByZWFkeS4KICAgIGxldCBmaWxlRGF0YSA9IHlpZWxkIHsKICAgICAgcHJvbWlzZTogZmlsZURhdGFQcm9taXNlLAogICAgICByZXNwb25zZTogewogICAgICAgIGFjdGlvbjogJ2NvbnRpbnVlJywKICAgICAgfQogICAgfTsKCiAgICAvLyBVc2UgYSBjaHVua2VkIHNlbmRpbmcgdG8gYXZvaWQgbWVzc2FnZSBzaXplIGxpbWl0cy4gU2VlIGIvNjIxMTU2NjAuCiAgICBsZXQgcG9zaXRpb24gPSAwOwogICAgZG8gewogICAgICBjb25zdCBsZW5ndGggPSBNYXRoLm1pbihmaWxlRGF0YS5ieXRlTGVuZ3RoIC0gcG9zaXRpb24sIE1BWF9QQVlMT0FEX1NJWkUpOwogICAgICBjb25zdCBjaHVuayA9IG5ldyBVaW50OEFycmF5KGZpbGVEYXRhLCBwb3NpdGlvbiwgbGVuZ3RoKTsKICAgICAgcG9zaXRpb24gKz0gbGVuZ3RoOwoKICAgICAgY29uc3QgYmFzZTY0ID0gYnRvYShTdHJpbmcuZnJvbUNoYXJDb2RlLmFwcGx5KG51bGwsIGNodW5rKSk7CiAgICAgIHlpZWxkIHsKICAgICAgICByZXNwb25zZTogewogICAgICAgICAgYWN0aW9uOiAnYXBwZW5kJywKICAgICAgICAgIGZpbGU6IGZpbGUubmFtZSwKICAgICAgICAgIGRhdGE6IGJhc2U2NCwKICAgICAgICB9LAogICAgICB9OwoKICAgICAgbGV0IHBlcmNlbnREb25lID0gZmlsZURhdGEuYnl0ZUxlbmd0aCA9PT0gMCA/CiAgICAgICAgICAxMDAgOgogICAgICAgICAgTWF0aC5yb3VuZCgocG9zaXRpb24gLyBmaWxlRGF0YS5ieXRlTGVuZ3RoKSAqIDEwMCk7CiAgICAgIHBlcmNlbnQudGV4dENvbnRlbnQgPSBgJHtwZXJjZW50RG9uZX0lIGRvbmVgOwoKICAgIH0gd2hpbGUgKHBvc2l0aW9uIDwgZmlsZURhdGEuYnl0ZUxlbmd0aCk7CiAgfQoKICAvLyBBbGwgZG9uZS4KICB5aWVsZCB7CiAgICByZXNwb25zZTogewogICAgICBhY3Rpb246ICdjb21wbGV0ZScsCiAgICB9CiAgfTsKfQoKc2NvcGUuZ29vZ2xlID0gc2NvcGUuZ29vZ2xlIHx8IHt9OwpzY29wZS5nb29nbGUuY29sYWIgPSBzY29wZS5nb29nbGUuY29sYWIgfHwge307CnNjb3BlLmdvb2dsZS5jb2xhYi5fZmlsZXMgPSB7CiAgX3VwbG9hZEZpbGVzLAogIF91cGxvYWRGaWxlc0NvbnRpbnVlLAp9Owp9KShzZWxmKTsK",
              "ok": true,
              "headers": [
                [
                  "content-type",
                  "application/javascript"
                ]
              ],
              "status": 200,
              "status_text": ""
            }
          },
          "base_uri": "https://localhost:8080/",
          "height": 73
        },
        "id": "JxxnyeT1obc3",
        "outputId": "91a96c76-7039-4627-acee-a246f80426eb"
      },
      "source": [
        "from google.colab import drive, files\n",
        "uploaded = files.upload()"
      ],
      "execution_count": null,
      "outputs": [
        {
          "output_type": "display_data",
          "data": {
            "text/html": [
              "\n",
              "     <input type=\"file\" id=\"files-00ecab4d-1a21-41ba-8e65-6a263e8d942c\" name=\"files[]\" multiple disabled\n",
              "        style=\"border:none\" />\n",
              "     <output id=\"result-00ecab4d-1a21-41ba-8e65-6a263e8d942c\">\n",
              "      Upload widget is only available when the cell has been executed in the\n",
              "      current browser session. Please rerun this cell to enable.\n",
              "      </output>\n",
              "      <script src=\"/nbextensions/google.colab/files.js\"></script> "
            ],
            "text/plain": [
              "<IPython.core.display.HTML object>"
            ]
          },
          "metadata": {}
        },
        {
          "output_type": "stream",
          "name": "stdout",
          "text": [
            "Saving data_q4_q5.xlsx to data_q4_q5 (1).xlsx\n"
          ]
        }
      ]
    },
    {
      "cell_type": "code",
      "metadata": {
        "id": "jebWsT-eogS-"
      },
      "source": [
        "def sigmoid(z):\n",
        "  z = z.astype(float)\n",
        "  z_out = 1/(1 + np.exp(-z))\n",
        "  return z_out"
      ],
      "execution_count": null,
      "outputs": []
    },
    {
      "cell_type": "code",
      "metadata": {
        "id": "BWWC1-datYgD"
      },
      "source": [
        "def hypothesis(X, wt):\n",
        "  hyp = sigmoid(np.dot(X, wt.T))\n",
        "  return hyp"
      ],
      "execution_count": null,
      "outputs": []
    },
    {
      "cell_type": "code",
      "metadata": {
        "id": "btPdWtdvr_IQ"
      },
      "source": [
        "# function for normalising data\n",
        "def norm(data):\n",
        "  # norm_data = data\n",
        "  mean = np.mean(data, axis = 0)\n",
        "  std = np.std(data, axis = 0)\n",
        "  norm_data = (data-mean)/std\n",
        "  return norm_data"
      ],
      "execution_count": null,
      "outputs": []
    },
    {
      "cell_type": "code",
      "metadata": {
        "id": "yjyPEE6csEbn"
      },
      "source": [
        "# function for regularisation\n",
        "def wt_regularisation(lamb, wt, reg):\n",
        "  wt_reg = np.zeros(wt.shape)\n",
        "  if reg == 0:\n",
        "    wt_reg = 0\n",
        "  elif reg == 1:\n",
        "    wt_reg = (lamb/2)*np.sign(wt)\n",
        "  elif reg == 2:\n",
        "    wt_reg = lamb*wt\n",
        "  return wt_reg"
      ],
      "execution_count": null,
      "outputs": []
    },
    {
      "cell_type": "code",
      "metadata": {
        "id": "1Wgj8Dtssv8v"
      },
      "source": [
        "def wt_update(alpha, lamb, reg, X, y, wt):\n",
        "  wt = wt + (alpha/len(y))*(np.dot(hypothesis(X, wt)-y, X) - wt_regularisation(reg, lamb, wt))\n",
        "  return wt"
      ],
      "execution_count": null,
      "outputs": []
    },
    {
      "cell_type": "code",
      "metadata": {
        "id": "oCWvFk3xbaSs"
      },
      "source": [
        "def bgd(alpha, lamb, iters, X, y, reg):\n",
        "  w = np.zeros(X.shape[1], dtype=np.longfloat)\n",
        "  for i in range(iters):\n",
        "    hyp = hypothesis(X, wt)\n",
        "    w = w - (alpha/len(y))*(np.dot(hyp - y, X) - wt_regularisation(lamb, w, reg))\n",
        "    # w = w*(1 - (alpha/len(y))*lamb) - (alpha/len(y))*np.dot(hyp - y, X)\n",
        "  return w"
      ],
      "execution_count": null,
      "outputs": []
    },
    {
      "cell_type": "code",
      "metadata": {
        "id": "po6SCPSL12Zb"
      },
      "source": [
        "def mbgd(alpha, lamb, iters, batch_size, X, y, reg):\n",
        "  w = np.random.rand(X.shape[1])\n",
        "  for i in range(iters):\n",
        "    rand_ind = np.random.randint(len(y))\n",
        "    X_batch = X[rand_ind:rand_ind + batch_size]\n",
        "    y_batch = y[rand_ind:rand_ind + batch_size]\n",
        "    hyp = hypothesis(X_batch, wt)\n",
        "    w = w - (alpha/len(y))*(np.dot(hyp-y_batch, X_batch) - wt_regularisation(lamb, w, reg))\n",
        "  return w"
      ],
      "execution_count": null,
      "outputs": []
    },
    {
      "cell_type": "code",
      "metadata": {
        "id": "1_qLUNXT133n"
      },
      "source": [
        "def sgd(alpha, lamb, iters, X, y):\n",
        "  w = np.random.rand(X.shape[1])\n",
        "  for i in range(iters):\n",
        "    rand_ind = np.random.randint(len(y))\n",
        "    X_ind = X[rand_ind:rand_ind + 1]\n",
        "    y_ind = y[rand_ind:rand_ind + 1]\n",
        "    hyp = hypothesis(X_ind, wt)\n",
        "    # print(hyp.shape)\n",
        "    # print(y_ind.shape)\n",
        "    w = w - (alpha/len(y))*(np.dot(hyp - y_ind, X_ind) - wt_regularisation(lamb, w, reg))\n",
        "  return w"
      ],
      "execution_count": null,
      "outputs": []
    },
    {
      "cell_type": "code",
      "metadata": {
        "id": "j4EdEvS6DFgK"
      },
      "source": [
        "def classification(X_ts, wt):\n",
        "  m = X_ts.shape[0]\n",
        "  y_sig = hypothesis(X_ts, wt)\n",
        "  print(y_sig)\n",
        "  y_pred = np.zeros(m)\n",
        "  for i in range(m):\n",
        "    if y_sig[i]>0.5:\n",
        "      y_pred[i] = 2\n",
        "    elif y_sig[i]<=0.5:\n",
        "      y_pred[i] = 1\n",
        "  return y_pred"
      ],
      "execution_count": null,
      "outputs": []
    },
    {
      "cell_type": "code",
      "metadata": {
        "id": "xJPR81AUaCIL"
      },
      "source": [
        "def confusion_mat(y_predicted, y_testing):\n",
        "  a, b, c, d = 0 , 0 , 0 , 0\n",
        "  for i in range(len(y_testing)):\n",
        "    if y_testing[i] == 1 :\n",
        "      if y_predicted[i] == 1 :\n",
        "        a += 1\n",
        "      if y_predicted[i] == 2 :\n",
        "        b += 1\n",
        "    if y_testing[i] == 2 :\n",
        "      if y_predicted[i] == 1 :\n",
        "        c += 1\n",
        "      if y_predicted[i] == 2 :\n",
        "        d += 1\n",
        "  acc = (a+d)/(a+b+c+d)\n",
        "  sens = (10*a)/(a+b)\n",
        "  spec = (d)/(d+c)\n",
        "  return print(f\"Sensitivity: {sens}\\nSpecificity: {spec}\\nAccuracy: {acc}\")"
      ],
      "execution_count": null,
      "outputs": []
    },
    {
      "cell_type": "code",
      "metadata": {
        "id": "-Cz6sRKHerak"
      },
      "source": [
        "# extracting the data and separating\n",
        "data = pd.read_excel(\"data_q4_q5.xlsx\")\n",
        "data = np.asarray(data)"
      ],
      "execution_count": null,
      "outputs": []
    },
    {
      "cell_type": "code",
      "metadata": {
        "id": "pZIRHsoke-Xt"
      },
      "source": [
        "# splitting into input and output\n",
        "X = data[:, :-1]  #input\n",
        "y = data[:,-1]    #output\n",
        "for i in range(len(y)):\n",
        "  if y[i] == 'M':\n",
        "    y[i] = 1\n",
        "  elif y[i] == 'B':\n",
        "    y[i] = 2\n",
        "# print(y)\n",
        "\n",
        "# normalizing X and y\n",
        "X = X.astype(float)\n",
        "X = norm(X)\n",
        "# y = norm(y)\n",
        "# print(X)\n",
        "# print(y)"
      ],
      "execution_count": null,
      "outputs": []
    },
    {
      "cell_type": "code",
      "metadata": {
        "colab": {
          "base_uri": "https://localhost:8080/"
        },
        "id": "QpXcLH8gfiWR",
        "outputId": "0709b63e-43eb-4bf9-e8c3-5dc7091f49fb"
      },
      "source": [
        "# splitting the data into training, testing and validation\n",
        "rowsX = X.shape[0]\n",
        "X_tr = X[0:int(rowsX*0.7)]\n",
        "y_tr = y[0:int(rowsX*0.7)]\n",
        "\n",
        "X_val = X[int(rowsX*0.7):int(rowsX*0.9)]\n",
        "y_val = y[int(rowsX*0.7):int(rowsX*0.9)]\n",
        "\n",
        "X_ts = X[int(rowsX*0.9):rowsX+1]\n",
        "y_ts = y[int(rowsX*0.9):rowsX+1]\n",
        "\n",
        "print(X_tr.shape, X_ts.shape, X_val.shape)\n",
        "print(y_tr.shape, y_ts.shape, y_val.shape)\n",
        "\n",
        "\n",
        "\n",
        "# defining X for regression model\n",
        "m = X_tr.shape[0]\n",
        "one_tr = np.ones([m,1])\n",
        "X_tr = np.append(one_tr, X_tr, axis = 1)\n",
        "\n",
        "m = X_val.shape[0]\n",
        "one_val = np.ones([m,1])\n",
        "X_val = np.append(one_val, X_val, axis = 1)\n",
        "\n",
        "m = X_ts.shape[0]\n",
        "one_ts = np.ones([m,1])\n",
        "X_ts = np.append(one_ts, X_ts, axis = 1)\n",
        "\n",
        "print(X_tr.shape, X_ts.shape, X_val.shape)"
      ],
      "execution_count": null,
      "outputs": [
        {
          "output_type": "stream",
          "name": "stdout",
          "text": [
            "(398, 30) (57, 30) (114, 30)\n",
            "(398,) (57,) (114,)\n",
            "(398, 31) (57, 31) (114, 31)\n"
          ]
        }
      ]
    },
    {
      "cell_type": "code",
      "metadata": {
        "colab": {
          "base_uri": "https://localhost:8080/"
        },
        "id": "TJGQYhUVg2Kg",
        "outputId": "ee589239-e697-4b82-f3ed-5e624df6a394"
      },
      "source": [
        "reg = 2\n",
        "\n",
        "# defining hyperparameters for BGD\n",
        "alpha = 0.005\n",
        "iters = 1000\n",
        "lamb = 0.01\n",
        "# BGD results\n",
        "wt_bgd = bgd(alpha, lamb, iters, X_tr, y_tr, reg)\n",
        "print(wt_bgd)\n",
        "\n",
        "# testing the algorithm\n",
        "# m = X_ts.shape[0]\n",
        "# one_ts = np.ones([m,1])\n",
        "# X_ts = np.append(one_ts, X_ts, 1)\n",
        "\n",
        "y_predsig = hypothesis(X_ts, wt_bgd)\n",
        "y_pred = np.zeros(m)\n",
        "print(y_pred)\n",
        "for i in range(m):\n",
        "  if y_predsig[i]>0.5:\n",
        "    y_pred[i] = 2\n",
        "  elif y_predsig[i]<=0.5:\n",
        "    y_pred[i] = 1\n",
        "print(y_ts, '\\n\\n', y_pred)\n",
        "\n",
        "confusion_mat(y_pred, y_ts)\n"
      ],
      "execution_count": null,
      "outputs": [
        {
          "output_type": "stream",
          "name": "stdout",
          "text": [
            "[4.881676469350999295 0.102313425657281870306 -0.5841711604445999801\n",
            " 0.13059521690232335824 0.1169210348352988033 0.3218977602910331789\n",
            " 0.5090284898860856108 0.5796149589312865682 0.4301101487012874023\n",
            " 0.6052522670911769203 0.46849528381907415637 0.2782246032149252738\n",
            " -0.067065500075341523356 0.26573089092145002368 0.1771261974707012068\n",
            " 0.1635101553963062271 0.7292308760690130076 0.76599718279035604443\n",
            " 0.59493125569479161533 0.706363526189722633 0.7602705813364524663\n",
            " 0.15041342588601271704 -0.54403676141774579017 0.16268562993969252253\n",
            " 0.17177100786369779854 0.14455557689902175423 0.42529425727165459943\n",
            " 0.45642977183042109319 0.3549828467679213155 0.541914553326897965\n",
            " 0.42123709179011154072]\n",
            "[0. 0. 0. 0. 0. 0. 0. 0. 0. 0. 0. 0. 0. 0. 0. 0. 0. 0. 0. 0. 0. 0. 0. 0.\n",
            " 0. 0. 0. 0. 0. 0. 0. 0. 0. 0. 0. 0. 0. 0. 0. 0. 0. 0. 0. 0. 0. 0. 0. 0.\n",
            " 0. 0. 0. 0. 0. 0. 0. 0. 0.]\n",
            "[1 2 1 2 1 1 2 2 2 1 2 2 2 2 2 2 2 2 2 2 2 1 2 1 1 2 2 2 2 2 2 2 2 2 2 2 2\n",
            " 2 2 2 2 2 2 2 2 2 2 2 2 2 1 1 1 1 1 1 2] \n",
            "\n",
            " [2. 2. 2. 2. 2. 2. 2. 2. 2. 2. 1. 2. 2. 2. 2. 1. 2. 2. 2. 2. 1. 2. 2. 2.\n",
            " 2. 2. 1. 2. 2. 2. 1. 1. 2. 1. 1. 2. 1. 1. 1. 2. 1. 2. 1. 2. 1. 1. 2. 2.\n",
            " 2. 1. 2. 2. 2. 2. 2. 2. 1.]\n",
            "Sensitivity: 0.0\n",
            "Specificity: 0.6046511627906976\n",
            "Accuracy: 0.45614035087719296\n"
          ]
        }
      ]
    },
    {
      "cell_type": "code",
      "metadata": {
        "colab": {
          "base_uri": "https://localhost:8080/"
        },
        "id": "Z8g-rfEpCszv",
        "outputId": "e6ad86dd-0e21-4c70-cd53-c0be269c58bf"
      },
      "source": [
        "# BGD with L1\n",
        "alpha_vals = np.linspace(0.001, 1, 20)\n",
        "l_vals = np.linspace(0.001, 1, 20)\n",
        "l_vals = np.logspace(-3,0,num=20)\n",
        "err_bgd = 1000000\n",
        "a_opt = 0\n",
        "l_opt = 0\n",
        "for a in alpha_vals:\n",
        "  l = 0.001\n",
        "  wt = bgd(a, l, 100, X_tr, y_tr, 1)\n",
        "  # print(wt)\n",
        "  temp_err = (0.5/len(y_val))*np.sum((y_val - hypothesis(X_val, wt))**2)\n",
        "  # print(wt)\n",
        "  # print(mse_err)\n",
        "  if temp_err < err_bgd:\n",
        "    # wt_bgd1 = wt\n",
        "    a_opt = a\n",
        "    err_bgd = temp_err\n",
        "    # print(wt_bgd, '\\n\\n')\n",
        "\n",
        "for l in l_vals:\n",
        "  wt = bgd(a_opt, l, 100, X_tr, y_tr, 1)\n",
        "  # print(wt)\n",
        "  temp_err = (0.5/len(y_val))*np.sum((y_val - hypothesis(X_val, wt))**2)\n",
        "  # print(wt)\n",
        "  # print(mse_err)\n",
        "  if temp_err < err_bgd:\n",
        "    # wt_bgd1 = wt\n",
        "    l_opt = l\n",
        "    err_bgd = temp_err\n",
        "    # print(wt_bgd, '\\n\\n')\n",
        "\n",
        "wt_bgd1 = bgd(a_opt, l_opt, 500, X_tr, y_tr, 1)\n",
        "y_pred = classification(X_ts, wt_bgd1)\n",
        "\n",
        "print('BGD LOR with L1 regularisation')\n",
        "confusion_mat(y_pred, y_ts)"
      ],
      "execution_count": null,
      "outputs": [
        {
          "output_type": "stream",
          "name": "stderr",
          "text": [
            "/usr/local/lib/python3.7/dist-packages/ipykernel_launcher.py:3: RuntimeWarning: overflow encountered in exp\n",
            "  This is separate from the ipykernel package so we can avoid doing imports until\n"
          ]
        },
        {
          "output_type": "stream",
          "name": "stdout",
          "text": [
            "[1.00000000e+00 9.99999423e-01 6.56390441e-01 9.99485301e-01\n",
            " 1.00000000e+00 1.00000000e+00 1.00000000e+00 1.00000000e+00\n",
            " 1.00000000e+00 1.00000000e+00 2.73157338e-13 1.00000000e+00\n",
            " 3.64646682e-01 9.99996253e-01 9.99997937e-01 2.35736354e-03\n",
            " 1.00000000e+00 9.99983860e-01 9.99551627e-01 9.97636541e-01\n",
            " 4.27512424e-05 1.00000000e+00 9.99957824e-01 1.00000000e+00\n",
            " 1.00000000e+00 1.00000000e+00 4.09188036e-05 1.00000000e+00\n",
            " 1.00000000e+00 1.00000000e+00 6.72621483e-04 6.28985042e-12\n",
            " 9.65435877e-01 7.89733554e-04 3.17898153e-07 9.99999968e-01\n",
            " 2.26859349e-05 2.18444609e-03 6.40043111e-13 9.99999755e-01\n",
            " 3.64539277e-14 9.81569702e-01 3.68778621e-08 4.78114927e-01\n",
            " 3.51804388e-05 9.85512394e-14 1.00000000e+00 9.99472034e-01\n",
            " 9.99512801e-01 4.73220924e-28 1.00000000e+00 1.00000000e+00\n",
            " 1.00000000e+00 1.00000000e+00 9.99999730e-01 1.00000000e+00\n",
            " 5.31211674e-18]\n",
            "BGD LOR with L1 regularisation\n",
            "Sensitivity: 10.0\n",
            "Specificity: 0.4418604651162791\n",
            "Accuracy: 0.5789473684210527\n"
          ]
        }
      ]
    },
    {
      "cell_type": "code",
      "metadata": {
        "colab": {
          "base_uri": "https://localhost:8080/"
        },
        "id": "Wb2Rl7l6C55r",
        "outputId": "4b2a9033-6309-43f6-d21e-4de8dfae94dc"
      },
      "source": [
        "# BGD with L2\n",
        "wt_bgd2 = np.random.rand(X_tr.shape[1])\n",
        "alpha_vals = np.logspace(-4,-2,num=20)\n",
        "l_vals = np.logspace(-3,0,num=20)\n",
        "err_bgd = 1000000\n",
        "n = 0\n",
        "for a in alpha_vals:\n",
        "  for l in l_vals:\n",
        "    wt = bgd(a, l, 500, X_tr, y_tr, 2)\n",
        "    # print(wt)\n",
        "    temp_err = (0.5/len(y_val))*np.sum((y_val - hypothesis(X_val, wt))**2)\n",
        "    # print(wt)\n",
        "    # print(mse_err)\n",
        "    if temp_err < err_bgd:\n",
        "      wt_bgd2 = wt\n",
        "      err_bgd = temp_err\n",
        "      # print(wt_bgd, '\\n\\n')\n",
        "\n",
        "print(wt_bgd2)\n",
        "y_pred = classification(X_ts, wt_bgd2)\n",
        "# print(y_ts, '\\n\\n', y_pred)\n",
        "\n",
        "print('BGD LOR with L2 regularisation')\n",
        "confusion_mat(y_pred, y_ts)"
      ],
      "execution_count": null,
      "outputs": [
        {
          "output_type": "stream",
          "name": "stdout",
          "text": [
            "BGD LOR with L2 regularisation\n",
            "Sensitivity: 0.42857142857142855\n",
            "Specificity: 1.0\n",
            "Accuracy: 0.7894736842105263\n"
          ]
        }
      ]
    },
    {
      "cell_type": "code",
      "metadata": {
        "colab": {
          "base_uri": "https://localhost:8080/"
        },
        "id": "t7xGGzjWFOrP",
        "outputId": "cf63d3cc-f90a-443e-80eb-ff40d516dfa6"
      },
      "source": [
        "# BGD without regularisation\n",
        "wt_bgd = np.random.rand(X_tr.shape[1])\n",
        "alpha_vals = np.linspace(0.001, 1, 20)\n",
        "l_vals = np.linspace(0.001, 1, 20)\n",
        "err_bgd = 100000\n",
        "n = 0\n",
        "for a in alpha_vals:\n",
        "  for l in l_vals:\n",
        "    wt = bgd(a, l, 100, X_tr, y_tr, 0)\n",
        "    # print(wt)\n",
        "    temp_err = (1/len(y_val))*np.sum((y_val - hypothesis(X_val, wt))**2)\n",
        "    # print(wt)\n",
        "    # print(mse_err)\n",
        "    if temp_err < err_bgd:\n",
        "      wt_bgd = wt\n",
        "      err_bgd = temp_err\n",
        "      # print(wt_bgd, '\\n\\n')\n",
        "\n",
        "print(wt_bgd)\n",
        "y_pred = classification(X_ts, wt_bgd2)\n",
        "# print(y_ts, '\\n\\n', y_pred)\n",
        "\n",
        "print('BGD LOR without regularisation')\n",
        "confusion_mat(y_pred, y_ts)"
      ],
      "execution_count": null,
      "outputs": [
        {
          "output_type": "stream",
          "name": "stderr",
          "text": [
            "/usr/local/lib/python3.7/dist-packages/ipykernel_launcher.py:3: RuntimeWarning: overflow encountered in exp\n",
            "  This is separate from the ipykernel package so we can avoid doing imports until\n"
          ]
        },
        {
          "output_type": "stream",
          "name": "stdout",
          "text": [
            "[5.593375343255326676 -1.2325053801043730356 -1.4785859926342731843\n",
            " -1.2508165625878236299 -1.1816373854857486689 -0.5525851437939096472\n",
            " -0.9941444440928419446 -1.0302591855910626928 -1.2084231381093733793\n",
            " -0.2747541325614866279 0.050851204457767567018 -0.8404041180295345609\n",
            " -0.19868145378882985132 -0.85436538182538327574 -0.8585356788519363236\n",
            " 0.12656621491945847183 -0.29099941199668072703 -0.1835819915483014736\n",
            " -0.50735354970188554363 0.537759417205986405 0.12356406699411703366\n",
            " -1.3011255551794154856 -1.5009404331439740732 -1.322195633243759133\n",
            " -1.20175262350530037 -0.82840873292714164305 -1.0325325024282088274\n",
            " -1.101768561325546826 -1.344519225242194263 -0.43869413054550190217\n",
            " -0.601201411615441203]\n",
            "BGD LOR without regularisation\n",
            "Sensitivity: 0.7142857142857143\n",
            "Specificity: 1.0\n",
            "Accuracy: 0.7719298245614035\n"
          ]
        }
      ]
    }
  ]
}