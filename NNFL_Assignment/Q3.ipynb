{
  "nbformat": 4,
  "nbformat_minor": 0,
  "metadata": {
    "colab": {
      "provenance": []
    },
    "kernelspec": {
      "name": "python3",
      "display_name": "Python 3"
    },
    "language_info": {
      "name": "python"
    }
  },
  "cells": [
    {
      "cell_type": "code",
      "metadata": {
        "id": "oC5QMcbK9MbG"
      },
      "source": [
        "import pandas as pd\n",
        "import math\n",
        "import numpy as np\n",
        "import matplotlib.pyplot as plt"
      ],
      "execution_count": null,
      "outputs": []
    },
    {
      "cell_type": "code",
      "metadata": {
        "colab": {
          "resources": {
            "http://localhost:8080/nbextensions/google.colab/files.js": {
              "data": "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",
              "ok": true,
              "headers": [
                [
                  "content-type",
                  "application/javascript"
                ]
              ],
              "status": 200,
              "status_text": ""
            }
          },
          "base_uri": "https://localhost:8080/",
          "height": 73
        },
        "id": "8BYOoi509S0e",
        "outputId": "c1a92380-1b8e-4a6d-deac-efc8b50c781f"
      },
      "source": [
        "from google.colab import drive, files\n",
        "# drive.mount(\"/content/gdrive\")\n",
        "uploaded = files.upload()"
      ],
      "execution_count": null,
      "outputs": [
        {
          "output_type": "display_data",
          "data": {
            "text/html": [
              "\n",
              "     <input type=\"file\" id=\"files-f10b60f2-315f-432b-af24-0fc3138238a1\" name=\"files[]\" multiple disabled\n",
              "        style=\"border:none\" />\n",
              "     <output id=\"result-f10b60f2-315f-432b-af24-0fc3138238a1\">\n",
              "      Upload widget is only available when the cell has been executed in the\n",
              "      current browser session. Please rerun this cell to enable.\n",
              "      </output>\n",
              "      <script src=\"/nbextensions/google.colab/files.js\"></script> "
            ],
            "text/plain": [
              "<IPython.core.display.HTML object>"
            ]
          },
          "metadata": {}
        },
        {
          "output_type": "stream",
          "name": "stdout",
          "text": [
            "Saving data_q2_q3.xlsx to data_q2_q3.xlsx\n"
          ]
        }
      ]
    },
    {
      "cell_type": "code",
      "metadata": {
        "id": "nneacjLB9Ur6"
      },
      "source": [
        "# function for normalising data\n",
        "def norm(data):\n",
        "  # norm_data = data\n",
        "  mean = np.mean(data, axis = 0)\n",
        "  std = np.std(data, axis = 0)\n",
        "  # print(mean, std)\n",
        "  norm_data = (data-mean)/std\n",
        "  return norm_data"
      ],
      "execution_count": null,
      "outputs": []
    },
    {
      "cell_type": "code",
      "metadata": {
        "id": "M5VzuSZI9YAx"
      },
      "source": [
        "# function for defining the hypothesis\n",
        "def hypothesis(X, wt):\n",
        "  hyp = np.dot(X, wt.T)\n",
        "  return hyp"
      ],
      "execution_count": null,
      "outputs": []
    },
    {
      "cell_type": "code",
      "metadata": {
        "id": "WN9SQddw9Z6F"
      },
      "source": [
        "# defining the cost function\n",
        "def costfunction(X, y, wt):\n",
        "  hyp = np.dot(X, wt.T)\n",
        "  J = (0.5/len(y))*np.sum((hyp - y)**2)\n",
        "  return J"
      ],
      "execution_count": null,
      "outputs": []
    },
    {
      "cell_type": "code",
      "metadata": {
        "id": "WlWOtcgy9cQ5"
      },
      "source": [
        "# function for regularisation\n",
        "def wt_regularisation(lamb, wt, reg = 1):\n",
        "  wt_reg = np.zeros(wt.shape)\n",
        "  if reg == 1:\n",
        "    costreg = (lamb/2)*np.sum(np.abs(wt))\n",
        "    wt_reg = (lamb/2)*np.sign(wt)\n",
        "  elif reg == 2:\n",
        "    costreg = (lamb/2)*np.sum((wt)**2)\n",
        "    wt_reg = lamb*wt\n",
        "    # print(wt_reg)\n",
        "  return wt_reg"
      ],
      "execution_count": null,
      "outputs": []
    },
    {
      "cell_type": "code",
      "metadata": {
        "id": "fYNUwV5Y9d_j"
      },
      "source": [
        "# function for regularisation\n",
        "def J_regularisation(lamb, wt, reg =1):\n",
        "  costreg = 0\n",
        "  if reg == 1:\n",
        "    costreg = (lamb/2)*np.sum(np.abs(wt))\n",
        "  elif reg == 2:\n",
        "    costreg = (lamb/2)*np.sum((wt)**2)\n",
        "  return costreg"
      ],
      "execution_count": null,
      "outputs": []
    },
    {
      "cell_type": "code",
      "metadata": {
        "id": "svwgERKl9iIK"
      },
      "source": [
        "def bgd(alpha, lamb, iters, X, y):\n",
        "  w = np.random.rand(X.shape[1])\n",
        "  for i in range(iters):\n",
        "    hyp = np.dot(X, w.T)\n",
        "    # w = w - (alpha/len(y))*(np.dot(hyp - y, X) - wt_regularisation(lamb, w))\n",
        "    w = w*(1 - (alpha/len(y))*lamb) - (alpha/len(y))*np.dot(hyp - y, X)\n",
        "  return w"
      ],
      "execution_count": null,
      "outputs": []
    },
    {
      "cell_type": "code",
      "metadata": {
        "id": "HzTqMx3c9jwE"
      },
      "source": [
        "def sgd(alpha, lamb, iters, X, y):\n",
        "  w = np.random.rand(X.shape[1])\n",
        "  for i in range(iters):\n",
        "    rand_ind = np.random.randint(len(y))\n",
        "    X_ind = X[rand_ind:rand_ind + 1]\n",
        "    y_ind = y[rand_ind:rand_ind + 1]\n",
        "    hyp = np.dot(X_ind, w.T)\n",
        "    # print(hyp.shape)\n",
        "    # print(y_ind.shape)\n",
        "    w = w - (alpha/len(y))*(np.dot(hyp - y_ind, X_ind) - wt_regularisation(lamb, w))\n",
        "  return w"
      ],
      "execution_count": null,
      "outputs": []
    },
    {
      "cell_type": "code",
      "metadata": {
        "id": "FuAdL1ey9lPa"
      },
      "source": [
        "def mbgd(alpha, lamb, iters, batch_size, X, y):\n",
        "  w = np.random.rand(X.shape[1])\n",
        "  for i in range(iters):\n",
        "    rand_ind = np.random.randint(len(y))\n",
        "    X_batch = X[rand_ind:rand_ind + batch_size]\n",
        "    y_batch = y[rand_ind:rand_ind + batch_size]\n",
        "    hyp = np.dot(X_batch, w.T)\n",
        "    w = w - (alpha/len(y))*(np.dot(hyp-y_batch, X_batch) - wt_regularisation(lamb, w))\n",
        "  return w"
      ],
      "execution_count": null,
      "outputs": []
    },
    {
      "cell_type": "code",
      "metadata": {
        "id": "JQP3frZK9mti"
      },
      "source": [
        "def error(y_testing, y_predicted):\n",
        "  k = len(y_testing)\n",
        "  # print(k)\n",
        "  mae = (0.5/k)*(np.sum(abs(y_testing - y_predicted)))\n",
        "  mse = (0.5/k)*np.sum((y_testing - y_predicted)**2)\n",
        "  y_testingdiff = y_testing - np.mean(y_testing)\n",
        "  y_predicteddiff = y_predicted - np.mean(y_predicted)\n",
        "  # cc = np.sum(np.multiply(y_testingdiff, y_predicteddiff))/(np.sqrt(np.sum((y_testingdiff)**2))*np.sqrt(np.sum((y_predicteddiff)**2)))\n",
        "  cc = np.corrcoef(y_predicted, y_testing).mean()\n",
        "  return print('MAE:', mae, '\\nMSE:', mse,'\\nCC:', cc)"
      ],
      "execution_count": null,
      "outputs": []
    },
    {
      "cell_type": "code",
      "metadata": {
        "id": "80wev4Ry9oI9"
      },
      "source": [
        "# extracting the data and separating\n",
        "data = pd.read_excel(\"data_q2_q3.xlsx\")\n",
        "data = np.asarray(data)\n",
        "np.random.shuffle(data)\n",
        "data = norm(data)"
      ],
      "execution_count": null,
      "outputs": []
    },
    {
      "cell_type": "code",
      "metadata": {
        "colab": {
          "base_uri": "https://localhost:8080/"
        },
        "id": "VV3CQvHX9pnN",
        "outputId": "da0718c8-78a4-4926-eab0-f74ff4b6c05c"
      },
      "source": [
        "# splitting the data into training, testing and validation\n",
        "rows = data.shape[0]\n",
        "training_data = data[0:int(rows*0.7)]\n",
        "testing_data = data[int(rows*0.7) : int(rows*0.9)]\n",
        "validation_data = data[int(rows*0.9) : rows+1]\n",
        "\n",
        "print(rows, len(training_data), len(testing_data), len(validation_data))"
      ],
      "execution_count": null,
      "outputs": [
        {
          "output_type": "stream",
          "name": "stdout",
          "text": [
            "115 80 23 12\n"
          ]
        }
      ]
    },
    {
      "cell_type": "code",
      "metadata": {
        "colab": {
          "base_uri": "https://localhost:8080/"
        },
        "id": "YW1CM2tN9rTN",
        "outputId": "312d0180-5e4d-48ee-b631-d276b94fb162"
      },
      "source": [
        "# splitting into input and output\n",
        "X_tr = training_data[:, 0:-1]  #input\n",
        "y_tr = training_data[:,-1]    #output\n",
        "\n",
        "X_ts = testing_data[:, 0:-1]  #input\n",
        "y_ts = testing_data[:,-1]    #output\n",
        "\n",
        "X_val = validation_data[:, 0:-1]  #input\n",
        "y_val = validation_data[:,-1]    #output\n",
        "\n",
        "print(X_tr.shape, X_ts.shape, X_val.shape)\n",
        "print(y_tr.shape, y_ts.shape, y_val.shape)\n",
        "\n",
        "\n",
        "# defining X for regression model\n",
        "m = X_tr.shape[0]\n",
        "one_tr = np.ones([m,1])\n",
        "X_tr = np.append(one_tr, X_tr, axis = 1)\n",
        "\n",
        "m = X_val.shape[0]\n",
        "one_val = np.ones([m,1])\n",
        "X_val = np.append(one_val, X_val, axis = 1)\n",
        "\n",
        "m = X_ts.shape[0]\n",
        "one_ts = np.ones([m,1])\n",
        "X_ts = np.append(one_ts, X_ts, axis = 1)\n",
        "\n",
        "print(X_tr.shape, X_ts.shape, X_val.shape)"
      ],
      "execution_count": null,
      "outputs": [
        {
          "output_type": "stream",
          "name": "stdout",
          "text": [
            "(80, 4) (23, 4) (12, 4)\n",
            "(80,) (23,) (12,)\n",
            "(80, 5) (23, 5) (12, 5)\n"
          ]
        }
      ]
    },
    {
      "cell_type": "code",
      "metadata": {
        "colab": {
          "base_uri": "https://localhost:8080/"
        },
        "id": "6pK7xX0R9tRS",
        "outputId": "de462ebb-28fa-4876-e9e5-9e3968ece587"
      },
      "source": [
        "wt_bgd = np.random.rand(X_tr.shape[1])\n",
        "alpha_vals = np.linspace(0.001,0.1,num=50)\n",
        "l_vals = np.linspace(0.0001,0.1,num=50)\n",
        "err_bgd = 1000000\n",
        "n = 0\n",
        "for a in alpha_vals:\n",
        "  for l in l_vals:\n",
        "    wt = bgd(a, l, 1000, X_tr, y_tr)\n",
        "    # print(wt)\n",
        "    temp_err = (1/len(y_val))*np.sum((y_val - np.dot(X_val, wt.T)**2))\n",
        "    # print(wt)\n",
        "    # print(mse_err)\n",
        "    if temp_err < err_bgd:\n",
        "      wt_bgd = wt\n",
        "      err_bgd = temp_err\n",
        "      # print(wt_bgd, '\\n\\n')\n",
        "    n+=1\n",
        "\n",
        "print(wt_bgd)\n",
        "y_pred_bgd = np.dot(X_ts, wt_bgd.T)\n",
        "# print(y_pred_bgd, '\\n\\n', y_ts)\n",
        "error(y_ts, y_pred_bgd) ###mae, mse, cc"
      ],
      "execution_count": null,
      "outputs": [
        {
          "output_type": "stream",
          "name": "stdout",
          "text": [
            "[0.02052465 0.7191028  0.21064487 0.17726646 0.46546875]\n",
            "MAE: 0.2281819213453144 \n",
            "MSE: 0.16619577646073191 \n",
            "CC: 0.9006619372577962\n"
          ]
        }
      ]
    },
    {
      "cell_type": "code",
      "metadata": {
        "colab": {
          "base_uri": "https://localhost:8080/"
        },
        "id": "ZoRx80Z_9u0S",
        "outputId": "2882a2ab-5791-4250-ff0a-854de69c0108"
      },
      "source": [
        "wt_sgd = np.random.rand(X_tr.shape[1])\n",
        "alpha_vals = np.logspace(-4,-2,num=50)\n",
        "l_vals = np.logspace(-3,0,num=50)\n",
        "err_sgd = 1000000\n",
        "n = 0\n",
        "for a in alpha_vals:\n",
        "  for l in l_vals:\n",
        "    wt = sgd(a, l, 1000, X_tr, y_tr)\n",
        "    # print(wt)\n",
        "    temp_err = (1/len(y_val))*np.sum((y_val - np.dot(X_val, wt.T)**2))\n",
        "    # print(wt)\n",
        "    # print(mse_err)\n",
        "    if temp_err < err_sgd:\n",
        "      wt_sgd = wt\n",
        "      err_sgd = temp_err\n",
        "      # print(wt_bgd, '\\n\\n')\n",
        "    n+=1\n",
        "\n",
        "# print(wt_sgd)\n",
        "y_pred_sgd = np.dot(X_ts, wt_sgd.T)\n",
        "# print(y_pred_sgd, '\\n\\n', y_ts)\n",
        "error(y_ts, y_pred_sgd) ###mae, mse, cc"
      ],
      "execution_count": null,
      "outputs": [
        {
          "output_type": "stream",
          "name": "stdout",
          "text": [
            "MAE: 0.6654999860284054 \n",
            "MSE: 1.5241571404861634 \n",
            "CC: 0.675963260805293\n"
          ]
        }
      ]
    },
    {
      "cell_type": "code",
      "metadata": {
        "id": "MHF59KPJ9xmF"
      },
      "source": [
        "# fine tuning the parameters for bgd\n",
        "m = X_validation.shape[0]\n",
        "one_validation = np.ones([m,1])\n",
        "X_validation = np.append(one_validation, X_validation, axis = 1)\n",
        "wt_validation = np.random.rand(X_validation.shape[1])"
      ],
      "execution_count": null,
      "outputs": []
    },
    {
      "cell_type": "code",
      "metadata": {
        "colab": {
          "base_uri": "https://localhost:8080/"
        },
        "id": "XlKsANiM91R-",
        "outputId": "1c9b3171-e14e-4a9d-aeab-bb29e1ec066e"
      },
      "source": [
        "wt_mbgd = np.random.rand(X_tr.shape[1])\n",
        "alpha_vals = np.logspace(0.001,0.1,num=50)\n",
        "l_vals = np.logspace(-3,0,num=50)\n",
        "err_mbgd = 1000000\n",
        "n = 0\n",
        "for a in alpha_vals:\n",
        "  for l in l_vals:\n",
        "    wt = mbgd(a, l, 1000, 30, X_tr, y_tr)\n",
        "    # print(wt)\n",
        "    temp_err = (1/len(y_val))*np.sum((y_val - np.dot(X_val, wt.T)**2))\n",
        "    # print(wt)\n",
        "    # print(mse_err)\n",
        "    if temp_err < err_mbgd:\n",
        "      wt_mbgd = wt\n",
        "      err_mbgd = temp_err\n",
        "      # print(wt_bgd, '\\n\\n')\n",
        "    n+=1\n",
        "\n",
        "# print(wt_mbgd)\n",
        "y_pred_mbgd = np.dot(X_ts, wt_mbgd.T)\n",
        "# print(y_pred_mbgd, '\\n\\n', y_ts)\n",
        "error(y_ts, y_pred_mbgd) ###mae, mse, cc"
      ],
      "execution_count": null,
      "outputs": [
        {
          "output_type": "stream",
          "name": "stdout",
          "text": [
            "MAE: 0.2719173883231418 \n",
            "MSE: 0.21983671617985548 \n",
            "CC: 0.8771808883678038\n"
          ]
        }
      ]
    },
    {
      "cell_type": "code",
      "metadata": {
        "id": "6U9F74Ui93hc"
      },
      "source": [],
      "execution_count": null,
      "outputs": []
    },
    {
      "cell_type": "code",
      "metadata": {
        "id": "5VlOSyuG-lnU"
      },
      "source": [],
      "execution_count": null,
      "outputs": []
    },
    {
      "cell_type": "code",
      "metadata": {
        "id": "NNyQ3gLq-mLH"
      },
      "source": [],
      "execution_count": null,
      "outputs": []
    },
    {
      "cell_type": "code",
      "metadata": {
        "id": "Dv64TCJH-pzI"
      },
      "source": [],
      "execution_count": null,
      "outputs": []
    }
  ]
}