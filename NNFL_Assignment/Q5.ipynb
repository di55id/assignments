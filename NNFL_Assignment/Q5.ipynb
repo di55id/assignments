{
  "nbformat": 4,
  "nbformat_minor": 0,
  "metadata": {
    "colab": {
      "provenance": []
    },
    "kernelspec": {
      "name": "python3",
      "display_name": "Python 3"
    },
    "language_info": {
      "name": "python"
    }
  },
  "cells": [
    {
      "cell_type": "code",
      "metadata": {
        "id": "fpLoiUGVIgl3"
      },
      "source": [
        "import pandas as pd\n",
        "import math\n",
        "import numpy as np\n",
        "import matplotlib.pyplot as plt"
      ],
      "execution_count": null,
      "outputs": []
    },
    {
      "cell_type": "code",
      "metadata": {
        "colab": {
          "resources": {
            "http://localhost:8080/nbextensions/google.colab/files.js": {
              "data": "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",
              "ok": true,
              "headers": [
                [
                  "content-type",
                  "application/javascript"
                ]
              ],
              "status": 200,
              "status_text": ""
            }
          },
          "base_uri": "https://localhost:8080/",
          "height": 73
        },
        "id": "VJNGvdBqIh1Y",
        "outputId": "fad544db-f99f-4180-ea4a-4d37882ba6f9"
      },
      "source": [
        "from google.colab import drive, files\n",
        "uploaded = files.upload()"
      ],
      "execution_count": null,
      "outputs": [
        {
          "output_type": "display_data",
          "data": {
            "text/html": [
              "\n",
              "     <input type=\"file\" id=\"files-c24e4134-cf72-4cbe-b8f5-4de33d2fbcc7\" name=\"files[]\" multiple disabled\n",
              "        style=\"border:none\" />\n",
              "     <output id=\"result-c24e4134-cf72-4cbe-b8f5-4de33d2fbcc7\">\n",
              "      Upload widget is only available when the cell has been executed in the\n",
              "      current browser session. Please rerun this cell to enable.\n",
              "      </output>\n",
              "      <script src=\"/nbextensions/google.colab/files.js\"></script> "
            ],
            "text/plain": [
              "<IPython.core.display.HTML object>"
            ]
          },
          "metadata": {}
        },
        {
          "output_type": "stream",
          "name": "stdout",
          "text": [
            "Saving data_q4_q5.xlsx to data_q4_q5.xlsx\n"
          ]
        }
      ]
    },
    {
      "cell_type": "code",
      "metadata": {
        "id": "WVunqeJCIi93"
      },
      "source": [
        "def sigmoid(z):\n",
        "  z = z.astype(float)\n",
        "  z_out = 1/(1 + np.exp(-z))\n",
        "  return z_out"
      ],
      "execution_count": null,
      "outputs": []
    },
    {
      "cell_type": "code",
      "metadata": {
        "id": "YU3t7ZjnImFt"
      },
      "source": [
        "def hypothesis(X, wt):\n",
        "  hyp = sigmoid(np.dot(X, wt.T))\n",
        "  return hyp"
      ],
      "execution_count": null,
      "outputs": []
    },
    {
      "cell_type": "code",
      "metadata": {
        "id": "DZP2zDb4IoDO"
      },
      "source": [
        "# function for normalising data\n",
        "def norm(data):\n",
        "  # norm_data = data\n",
        "  mean = np.mean(data, axis = 0)\n",
        "  std = np.std(data, axis = 0)\n",
        "  norm_data = (data-mean)/std\n",
        "  return norm_data"
      ],
      "execution_count": null,
      "outputs": []
    },
    {
      "cell_type": "code",
      "metadata": {
        "id": "Yttq8LrzIrQc"
      },
      "source": [
        "# function for regularisation\n",
        "def wt_regularisation(lamb, wt, reg):\n",
        "  wt_reg = np.zeros(wt.shape)\n",
        "  if reg == 0:\n",
        "    wt_reg = 0\n",
        "  elif reg == 1:\n",
        "    wt_reg = (lamb/2)*np.sign(wt)\n",
        "  elif reg == 2:\n",
        "    wt_reg = lamb*wt\n",
        "  return wt_reg"
      ],
      "execution_count": null,
      "outputs": []
    },
    {
      "cell_type": "code",
      "metadata": {
        "id": "Pv-k_sRlItI6"
      },
      "source": [
        "def bgd(alpha, lamb, iters, X, y, reg):\n",
        "  w = np.zeros(X.shape[1], dtype=np.longfloat)\n",
        "  for i in range(iters):\n",
        "    hyp = hypothesis(X, wt)\n",
        "    w = w - (alpha/len(y))*(np.dot(hyp - y, X) - wt_regularisation(lamb, w, reg))\n",
        "    # w = w*(1 - (alpha/len(y))*lamb) - (alpha/len(y))*np.dot(hyp - y, X)\n",
        "  return w"
      ],
      "execution_count": null,
      "outputs": []
    },
    {
      "cell_type": "code",
      "metadata": {
        "id": "oQoQiXOZIvzU"
      },
      "source": [
        "def mbgd(alpha, lamb, iters, batch_size, X, y, reg):\n",
        "  w = np.random.rand(X.shape[1])\n",
        "  for i in range(iters):\n",
        "    rand_ind = np.random.randint(len(y))\n",
        "    X_batch = X[rand_ind:rand_ind + batch_size]\n",
        "    y_batch = y[rand_ind:rand_ind + batch_size]\n",
        "    hyp = hypothesis(X_batch, wt)\n",
        "    w = w - (alpha/len(y))*(np.dot(hyp-y_batch, X_batch) - wt_regularisation(lamb, w, reg))\n",
        "  return w"
      ],
      "execution_count": null,
      "outputs": []
    },
    {
      "cell_type": "code",
      "metadata": {
        "id": "bj65n1miI1se"
      },
      "source": [
        "def sgd(alpha, lamb, iters, X, y, reg):\n",
        "  w = np.random.rand(X.shape[1])\n",
        "  for i in range(iters):\n",
        "    rand_ind = np.random.randint(len(y))\n",
        "    X_ind = X[rand_ind:rand_ind + 1]\n",
        "    y_ind = y[rand_ind:rand_ind + 1]\n",
        "    hyp = hypothesis(X_ind, wt)\n",
        "    # print(hyp.shape)\n",
        "    # print(y_ind.shape)\n",
        "    w = w - (alpha/len(y))*(np.dot(hyp - y_ind, X_ind) - wt_regularisation(lamb, w, reg))\n",
        "  return w"
      ],
      "execution_count": null,
      "outputs": []
    },
    {
      "cell_type": "code",
      "metadata": {
        "id": "vJTsGq3SSTFH"
      },
      "source": [
        "# splitting the data into folds\n",
        "def cross_validation(k, X, y):\n",
        "  # print(len(X))\n",
        "  fold_size = int(len(X)/5)\n",
        "  # print(fold_size)\n",
        "  X_ts = X[k*fold_size:(k+1)*fold_size]\n",
        "  y_ts = y[k*fold_size:(k+1)*fold_size]\n",
        "  X_tr = np.delete(X, slice(k*fold_size, (k+1)*fold_size), axis = 0)\n",
        "  y_tr = np.delete(y, slice(k*fold_size, (k+1)*fold_size), axis = 0)\n",
        "  # print(len(X_ts), len(y_ts))\n",
        "  # print(len(X_tr), len(y_tr))\n",
        "  return X_ts, y_ts, X_tr, y_tr"
      ],
      "execution_count": null,
      "outputs": []
    },
    {
      "cell_type": "code",
      "metadata": {
        "id": "z_Y57JVEI3h3"
      },
      "source": [
        "def classification(X_ts, wt):\n",
        "  m = X_ts.shape[0]\n",
        "  y_sig = hypothesis(X_ts, wt)\n",
        "  # print(y_sig)\n",
        "  y_pred = np.zeros(m)\n",
        "  for i in range(m):\n",
        "    if y_sig[i]>0.5:\n",
        "      y_pred[i] = 1\n",
        "    elif y_sig[i]<=0.5:\n",
        "      y_pred[i] = 2\n",
        "  return y_pred"
      ],
      "execution_count": null,
      "outputs": []
    },
    {
      "cell_type": "code",
      "metadata": {
        "id": "P2Y-TJ3bI57X"
      },
      "source": [
        "def confusion_mat(y_predicted, y_testing):\n",
        "  a, b, c, d = 0 , 0 , 0 , 0\n",
        "  for i in range(len(y_testing)):\n",
        "    if y_testing[i] == 1 :\n",
        "      if y_predicted[i] == 1 :\n",
        "        a += 1\n",
        "      if y_predicted[i] == 2 :\n",
        "        b += 1\n",
        "    if y_testing[i] == 2 :\n",
        "      if y_predicted[i] == 1 :\n",
        "        c += 1\n",
        "      if y_predicted[i] == 2 :\n",
        "        d += 1\n",
        "  acc = (a+d)/(a+b+c+d)\n",
        "  sens = (a)/(a+b)\n",
        "  spec = (d)/(d+c)\n",
        "  return sens, spec, acc"
      ],
      "execution_count": null,
      "outputs": []
    },
    {
      "cell_type": "code",
      "metadata": {
        "id": "eF5ruIVTI70C"
      },
      "source": [
        "# extracting the data and separating\n",
        "data = pd.read_excel(\"data_q4_q5.xlsx\")\n",
        "data = np.asarray(data)\n",
        "np.random.shuffle(data)"
      ],
      "execution_count": null,
      "outputs": []
    },
    {
      "cell_type": "code",
      "metadata": {
        "id": "rTHdIxVoJq6u"
      },
      "source": [
        "# splitting into input and output\n",
        "X = data[:, :-1]  #input\n",
        "y = data[:,-1]    #output\n",
        "for i in range(len(y)):\n",
        "  if y[i] == 'M':\n",
        "    y[i] = 1\n",
        "  elif y[i] == 'B':\n",
        "    y[i] = 2\n",
        "# print(y)\n",
        "\n",
        "# normalizing X and y\n",
        "X = X.astype(float)\n",
        "X = norm(X)\n",
        "\n",
        "# defining X for regression model\n",
        "m = X.shape[0]\n",
        "one = np.ones([m,1])\n",
        "X = np.append(one, X, axis = 1)"
      ],
      "execution_count": null,
      "outputs": []
    },
    {
      "cell_type": "code",
      "metadata": {
        "colab": {
          "base_uri": "https://localhost:8080/"
        },
        "id": "nNdXT9vgJuHg",
        "outputId": "1e128d33-23ff-428c-9286-a109ae459d76"
      },
      "source": [
        "alpha_vals = np.linspace(0.001, 1, 20)\n",
        "l_vals = np.linspace(0.001, 1, 20)\n",
        "\n",
        "wt = np.random.rand(X.shape[1])\n",
        "SE = []\n",
        "SP = []\n",
        "A = []\n",
        "for i in range(5):\n",
        "  X_ts, y_ts, X_tr, y_tr = cross_validation(i, X, y)\n",
        "  a = 0.0005\n",
        "  l = 0.0001\n",
        "  wt = bgd(a, l, 1000, X_tr, y_tr, 0)\n",
        "  y_pred = classification(X_ts, wt)\n",
        "  sens, spec, acc = confusion_mat(y_pred, y_ts)\n",
        "  SE.append(sens)\n",
        "  SP.append(spec)\n",
        "  A.append(acc)\n",
        "\n",
        "avg_sens = sum(SE)/len(SE)\n",
        "avg_spec = sum(SP)/len(SP)\n",
        "avg_acc = sum(A)/len(A)\n",
        "print('BGD LOR without regularisation')\n",
        "print(f\"Sensitivity: {avg_sens}\\nSpecificity: {avg_spec}\\nAccuracy: {avg_acc}\\n\")"
      ],
      "execution_count": null,
      "outputs": [
        {
          "output_type": "stream",
          "name": "stdout",
          "text": [
            "BGD LOR without regularisation\n",
            "Sensitivity: 0.875010769275548\n",
            "Specificity: 0.7024460713553828\n",
            "Accuracy: 0.7646017699115044\n",
            "\n"
          ]
        }
      ]
    },
    {
      "cell_type": "code",
      "metadata": {
        "colab": {
          "base_uri": "https://localhost:8080/"
        },
        "id": "8c0c45M9Jxkt",
        "outputId": "53389ea1-2ab1-4ed0-b90f-0ab33c74b9da"
      },
      "source": [
        "wt = np.random.rand(X.shape[1])\n",
        "SE = []\n",
        "SP = []\n",
        "A = []\n",
        "for i in range(5):\n",
        "  X_ts, y_ts, X_tr, y_tr = cross_validation(i, X, y)\n",
        "  a = 0.0005\n",
        "  l = 0.0001\n",
        "  wt = bgd(a, l, 1000, X_tr, y_tr, 1)\n",
        "  y_pred = classification(X_ts, wt)\n",
        "  sens, spec, acc = confusion_mat(y_pred, y_ts)\n",
        "  SE.append(sens)\n",
        "  SP.append(spec)\n",
        "  A.append(acc)\n",
        "\n",
        "avg_sens = sum(SE)/len(SE)\n",
        "avg_spec = sum(SP)/len(SP)\n",
        "avg_acc = sum(A)/len(A)\n",
        "print('BGD LOR with L1 regularisation')\n",
        "print(f\"Sensitivity: {avg_sens}\\nSpecificity: {avg_spec}\\nAccuracy: {avg_acc}\\n\")"
      ],
      "execution_count": null,
      "outputs": [
        {
          "output_type": "stream",
          "name": "stdout",
          "text": [
            "BGD LOR with L1 regularisation\n",
            "Sensitivity: 0.9164234362720842\n",
            "Specificity: 0.7110611427760725\n",
            "Accuracy: 0.7893805309734514\n",
            "\n"
          ]
        }
      ]
    },
    {
      "cell_type": "code",
      "metadata": {
        "colab": {
          "base_uri": "https://localhost:8080/"
        },
        "id": "x-TGGaB5aa-S",
        "outputId": "1d297899-4928-43bc-c18a-5de3deca072d"
      },
      "source": [
        "wt = np.random.rand(X.shape[1])\n",
        "SE = []\n",
        "SP = []\n",
        "A = []\n",
        "for i in range(5):\n",
        "  X_ts, y_ts, X_tr, y_tr = cross_validation(i, X, y)\n",
        "  a = 0.0005\n",
        "  l = 0.0001\n",
        "  wt = bgd(a, l, 1000, X_tr, y_tr, 2)\n",
        "  y_pred = classification(X_ts, wt)\n",
        "  sens, spec, acc = confusion_mat(y_pred, y_ts)\n",
        "  SE.append(sens)\n",
        "  SP.append(spec)\n",
        "  A.append(acc)\n",
        "\n",
        "avg_sens = sum(SE)/len(SE)\n",
        "avg_spec = sum(SP)/len(SP)\n",
        "avg_acc = sum(A)/len(A)\n",
        "print('BGD LOR with L2 regularisation')\n",
        "print(f\"Sensitivity: {avg_sens}\\nSpecificity: {avg_spec}\\nAccuracy: {avg_acc}\\n\")"
      ],
      "execution_count": null,
      "outputs": [
        {
          "output_type": "stream",
          "name": "stdout",
          "text": [
            "BGD LOR with L2 regularisation\n",
            "Sensitivity: 0.8733633611782169\n",
            "Specificity: 0.7447387997240608\n",
            "Accuracy: 0.7929203539823009\n",
            "\n"
          ]
        }
      ]
    },
    {
      "cell_type": "code",
      "metadata": {
        "colab": {
          "base_uri": "https://localhost:8080/"
        },
        "id": "Fu4jg8oiadLn",
        "outputId": "d1bd6a54-0b73-43a2-a2e6-348715fa9fb8"
      },
      "source": [
        "wt = np.random.rand(X.shape[1])\n",
        "SE = []\n",
        "SP = []\n",
        "A = []\n",
        "for i in range(5):\n",
        "  X_ts, y_ts, X_tr, y_tr = cross_validation(i, X, y)\n",
        "  a = 0.075\n",
        "  l = 0.01\n",
        "  wt = sgd(a, l, 1000, X_tr, y_tr, 0)\n",
        "  y_pred = classification(X_ts, wt)\n",
        "  sens, spec, acc = confusion_mat(y_pred, y_ts)\n",
        "  SE.append(sens)\n",
        "  SP.append(spec)\n",
        "  A.append(acc)\n",
        "\n",
        "avg_sens = sum(SE)/len(SE)\n",
        "avg_spec = sum(SP)/len(SP)\n",
        "avg_acc = sum(A)/len(A)\n",
        "print('SGD LOR without regularisation')\n",
        "print(f\"Sensitivity: {avg_sens}\\nSpecificity: {avg_spec}\\nAccuracy: {avg_acc}\\n\")"
      ],
      "execution_count": null,
      "outputs": [
        {
          "output_type": "stream",
          "name": "stdout",
          "text": [
            "SGD LOR without regularisation\n",
            "Sensitivity: 0.9261216054952411\n",
            "Specificity: 0.8573777958934887\n",
            "Accuracy: 0.8814159292035398\n",
            "\n"
          ]
        }
      ]
    },
    {
      "cell_type": "code",
      "metadata": {
        "colab": {
          "base_uri": "https://localhost:8080/"
        },
        "id": "m1NN-d8NchPF",
        "outputId": "41b92536-9d39-4c0b-ab34-b3be226d6aeb"
      },
      "source": [
        "wt = np.random.rand(X.shape[1])\n",
        "SE = []\n",
        "SP = []\n",
        "A = []\n",
        "for i in range(5):\n",
        "  X_ts, y_ts, X_tr, y_tr = cross_validation(i, X, y)\n",
        "  a = 0.01\n",
        "  l = 0.05\n",
        "  wt = sgd(a, l, 1000, X_tr, y_tr, 1)\n",
        "  y_pred = classification(X_ts, wt)\n",
        "  sens, spec, acc = confusion_mat(y_pred, y_ts)\n",
        "  SE.append(sens)\n",
        "  SP.append(spec)\n",
        "  A.append(acc)\n",
        "\n",
        "avg_sens = sum(SE)/len(SE)\n",
        "avg_spec = sum(SP)/len(SP)\n",
        "avg_acc = sum(A)/len(A)\n",
        "print('SGD LOR with L1 regularisation')\n",
        "print(f\"Sensitivity: {avg_sens}\\nSpecificity: {avg_spec}\\nAccuracy: {avg_acc}\\n\")"
      ],
      "execution_count": null,
      "outputs": [
        {
          "output_type": "stream",
          "name": "stdout",
          "text": [
            "SGD LOR with L1 regularisation\n",
            "Sensitivity: 0.902912797974212\n",
            "Specificity: 0.8745006256676102\n",
            "Accuracy: 0.8831858407079647\n",
            "\n"
          ]
        }
      ]
    },
    {
      "cell_type": "code",
      "metadata": {
        "colab": {
          "base_uri": "https://localhost:8080/"
        },
        "id": "NJoMm3pVc-8Z",
        "outputId": "08538565-6a0e-4db4-e14b-8271b8564bea"
      },
      "source": [
        "wt = np.random.rand(X.shape[1])\n",
        "SE = []\n",
        "SP = []\n",
        "A = []\n",
        "for i in range(5):\n",
        "  X_ts, y_ts, X_tr, y_tr = cross_validation(i, X, y)\n",
        "  a = 0.0005\n",
        "  l = 0.0001\n",
        "  wt = sgd(a, l, 1000, X_tr, y_tr, 2)\n",
        "  y_pred = classification(X_ts, wt)\n",
        "  sens, spec, acc = confusion_mat(y_pred, y_ts)\n",
        "  SE.append(sens)\n",
        "  SP.append(spec)\n",
        "  A.append(acc)\n",
        "\n",
        "avg_sens = sum(SE)/len(SE)\n",
        "avg_spec = sum(SP)/len(SP)\n",
        "avg_acc = sum(A)/len(A)\n",
        "print('SGD LOR with L2 regularisation')\n",
        "print(f\"Sensitivity: {avg_sens}\\nSpecificity: {avg_spec}\\nAccuracy: {avg_acc}\\n\")"
      ],
      "execution_count": null,
      "outputs": [
        {
          "output_type": "stream",
          "name": "stdout",
          "text": [
            "SGD LOR with L2 regularisation\n",
            "Sensitivity: 0.8981709695258608\n",
            "Specificity: 0.8745704662368439\n",
            "Accuracy: 0.8814159292035398\n",
            "\n"
          ]
        }
      ]
    },
    {
      "cell_type": "code",
      "metadata": {
        "colab": {
          "base_uri": "https://localhost:8080/"
        },
        "id": "xWFNYICXdG-m",
        "outputId": "f96af6d6-c5a4-42fb-b347-ceaab93aeb72"
      },
      "source": [
        "wt = np.random.rand(X.shape[1])\n",
        "SE = []\n",
        "SP = []\n",
        "A = []\n",
        "for i in range(5):\n",
        "  X_ts, y_ts, X_tr, y_tr = cross_validation(i, X, y)\n",
        "  a = 0.0009\n",
        "  l = 0.0001\n",
        "  wt = mbgd(a, l, 1000, 30, X_tr, y_tr, 0)\n",
        "  y_pred = classification(X_ts, wt)\n",
        "  sens, spec, acc = confusion_mat(y_pred, y_ts)\n",
        "  SE.append(sens)\n",
        "  SP.append(spec)\n",
        "  A.append(acc)\n",
        "\n",
        "avg_sens = sum(SE)/len(SE)\n",
        "avg_spec = sum(SP)/len(SP)\n",
        "avg_acc = sum(A)/len(A)\n",
        "print('MBGD LOR without regularisation')\n",
        "print(f\"Sensitivity: {avg_sens}\\nSpecificity: {avg_spec}\\nAccuracy: {avg_acc}\\n\")"
      ],
      "execution_count": null,
      "outputs": [
        {
          "output_type": "stream",
          "name": "stdout",
          "text": [
            "MBGD LOR without regularisation\n",
            "Sensitivity: 0.896939779375382\n",
            "Specificity: 0.8723759230192385\n",
            "Accuracy: 0.8814159292035398\n",
            "\n"
          ]
        }
      ]
    },
    {
      "cell_type": "code",
      "metadata": {
        "colab": {
          "base_uri": "https://localhost:8080/"
        },
        "id": "2FivMSlddoXe",
        "outputId": "8ff62506-9a06-4915-81c3-6d20f4fb907d"
      },
      "source": [
        "wt = np.random.rand(X.shape[1])\n",
        "SE = []\n",
        "SP = []\n",
        "A = []\n",
        "for i in range(5):\n",
        "  X_ts, y_ts, X_tr, y_tr = cross_validation(i, X, y)\n",
        "  a = 0.0009\n",
        "  l = 0.001\n",
        "  wt = mbgd(a, l, 1000, 30, X_tr, y_tr, 1)\n",
        "  y_pred = classification(X_ts, wt)\n",
        "  sens, spec, acc = confusion_mat(y_pred, y_ts)\n",
        "  SE.append(sens)\n",
        "  SP.append(spec)\n",
        "  A.append(acc)\n",
        "\n",
        "avg_sens = sum(SE)/len(SE)\n",
        "avg_spec = sum(SP)/len(SP)\n",
        "avg_acc = sum(A)/len(A)\n",
        "print('MBGD LOR with L1 regularisation')\n",
        "print(f\"Sensitivity: {avg_sens}\\nSpecificity: {avg_spec}\\nAccuracy: {avg_acc}\\n\")"
      ],
      "execution_count": null,
      "outputs": [
        {
          "output_type": "stream",
          "name": "stdout",
          "text": [
            "MBGD LOR with L1 regularisation\n",
            "Sensitivity: 0.916074599062782\n",
            "Specificity: 0.8729429797992309\n",
            "Accuracy: 0.888495575221239\n",
            "\n"
          ]
        }
      ]
    },
    {
      "cell_type": "code",
      "metadata": {
        "colab": {
          "base_uri": "https://localhost:8080/"
        },
        "id": "oMf59PDMduLU",
        "outputId": "0f4f790d-0cdb-484b-fe56-58618825fe7e"
      },
      "source": [
        "wt = np.random.rand(X.shape[1])\n",
        "SE = []\n",
        "SP = []\n",
        "A = []\n",
        "for i in range(5):\n",
        "  X_ts, y_ts, X_tr, y_tr = cross_validation(i, X, y)\n",
        "  a = 0.0009\n",
        "  l = 0.0015\n",
        "  wt = mbgd(a, l, 1000, 30, X_tr, y_tr, 2)\n",
        "  y_pred = classification(X_ts, wt)\n",
        "  sens, spec, acc = confusion_mat(y_pred, y_ts)\n",
        "  SE.append(sens)\n",
        "  SP.append(spec)\n",
        "  A.append(acc)\n",
        "\n",
        "avg_sens = sum(SE)/len(SE)\n",
        "avg_spec = sum(SP)/len(SP)\n",
        "avg_acc = sum(A)/len(A)\n",
        "print('MBGD LOR with L2 regularisation')\n",
        "print(f\"Sensitivity: {avg_sens}\\nSpecificity: {avg_spec}\\nAccuracy: {avg_acc}\\n\")"
      ],
      "execution_count": null,
      "outputs": [
        {
          "output_type": "stream",
          "name": "stdout",
          "text": [
            "MBGD LOR with L2 regularisation\n",
            "Sensitivity: 0.9016816078237332\n",
            "Specificity: 0.8562489669165585\n",
            "Accuracy: 0.8725663716814159\n",
            "\n"
          ]
        }
      ]
    }
  ]
}