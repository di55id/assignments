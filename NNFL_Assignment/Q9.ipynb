{
  "nbformat": 4,
  "nbformat_minor": 0,
  "metadata": {
    "colab": {
      "provenance": []
    },
    "kernelspec": {
      "name": "python3",
      "display_name": "Python 3"
    },
    "language_info": {
      "name": "python"
    }
  },
  "cells": [
    {
      "cell_type": "markdown",
      "metadata": {
        "id": "2S0Cnu-rJq8n"
      },
      "source": [
        "Q9. Implement the Maximum a posteriori (MAP) decision rule for the multiclass\n",
        "classification tasks. You must use a 5-fold CV-based selection of training and test\n",
        "instances for the MAP classifier. You must use the dataset data_q6_q7.txt for this\n",
        "question. Evaluate individual accuracy and overall accuracy of MAP classifier."
      ]
    },
    {
      "cell_type": "code",
      "metadata": {
        "id": "3Voos2HyJtjp"
      },
      "source": [
        "import pandas as pd\n",
        "import math\n",
        "import numpy as np\n",
        "import matplotlib.pyplot as plt"
      ],
      "execution_count": null,
      "outputs": []
    },
    {
      "cell_type": "code",
      "metadata": {
        "colab": {
          "base_uri": "https://localhost:8080/"
        },
        "id": "oEbyTbfnJwv-",
        "outputId": "8a72823e-8402-426f-83db-84c252a4e0b6"
      },
      "source": [
        "from google.colab import drive\n",
        "drive.mount(\"/content/gdrive\")"
      ],
      "execution_count": null,
      "outputs": [
        {
          "output_type": "stream",
          "name": "stdout",
          "text": [
            "Mounted at /content/gdrive\n"
          ]
        }
      ]
    },
    {
      "cell_type": "code",
      "metadata": {
        "colab": {
          "base_uri": "https://localhost:8080/"
        },
        "id": "ShqL-akjKlps",
        "outputId": "410a33e7-8dd9-4722-ee1f-ac06da26aa50"
      },
      "source": [
        "%cd /content/gdrive/My Drive/NNFL/Assignment1"
      ],
      "execution_count": null,
      "outputs": [
        {
          "output_type": "stream",
          "name": "stdout",
          "text": [
            "/content/gdrive/My Drive/NNFL/Assignment1\n"
          ]
        }
      ]
    },
    {
      "cell_type": "code",
      "metadata": {
        "id": "gAQVA9dXJyqD"
      },
      "source": [
        "# function for normalising data\n",
        "def norm(data):\n",
        "  # norm_data = data\n",
        "  mean = np.mean(data)\n",
        "  std = np.std(data)\n",
        "  norm_data = (data-mean)/std\n",
        "  return norm_data"
      ],
      "execution_count": null,
      "outputs": []
    },
    {
      "cell_type": "code",
      "metadata": {
        "id": "8Ape9Mm-J-da"
      },
      "source": [
        "# splitting the data into folds\n",
        "def cross_validation(k, X, y):\n",
        "  print(len(X))\n",
        "  fold_size = int(len(X)/5)\n",
        "  # print(fold_size)\n",
        "  X_testing = X[k*fold_size:(k+1)*fold_size]\n",
        "  y_testing = y[k*fold_size:(k+1)*fold_size]\n",
        "  X_training = np.delete(X, slice(k*fold_size, (k+1)*fold_size), axis = 0)\n",
        "  y_training = np.delete(y, slice(k*fold_size, (k+1)*fold_size), axis = 0)\n",
        "  print(len(X_testing), len(y_testing))\n",
        "  print(len(X_training), len(y_training))\n",
        "  return X_testing, y_testing, X_training, y_training"
      ],
      "execution_count": null,
      "outputs": []
    },
    {
      "cell_type": "code",
      "metadata": {
        "colab": {
          "base_uri": "https://localhost:8080/"
        },
        "id": "uRuWhcUrKBCx",
        "outputId": "1a9d34bd-b111-47e7-fb08-ad48e31a77a8"
      },
      "source": [
        "# extracting the data\n",
        "data = pd.read_excel(\"data_q6_q7.xlsx\")\n",
        "data = np.asarray(data)\n",
        "data = np.random.permutation(data)\n",
        "print(data)"
      ],
      "execution_count": null,
      "outputs": [
        {
          "output_type": "stream",
          "name": "stdout",
          "text": [
            "[[19.15   16.45    0.889  ...  3.084   6.185   2.    ]\n",
            " [14.11   14.1     0.8911 ...  2.7     5.      1.    ]\n",
            " [13.89   14.02    0.888  ...  3.986   4.738   1.    ]\n",
            " ...\n",
            " [15.99   14.89    0.9064 ...  3.336   5.144   2.    ]\n",
            " [14.49   14.61    0.8538 ...  4.116   5.396   1.    ]\n",
            " [14.16   14.4     0.8584 ...  3.072   5.176   1.    ]]\n"
          ]
        }
      ]
    },
    {
      "cell_type": "code",
      "metadata": {
        "id": "pm5ILcl1KfQr"
      },
      "source": [
        "# splitting into input and output\n",
        "X = data[:, :-1]  #input\n",
        "y = data[:,-1]    #output\n",
        "\n",
        "# normalizing X and y\n",
        "X = norm(X)"
      ],
      "execution_count": null,
      "outputs": []
    },
    {
      "cell_type": "code",
      "metadata": {
        "id": "I9-48Yg8K0dr"
      },
      "source": [
        "def likelihood(x, meanmat, covariance):\n",
        "  n = len(x)\n",
        "  coeff = 1 /((( 2 * np.pi )** (7/2) )*np.linalg.det(covariance)** 0.5 )\n",
        "  l = coeff*np.exp(- 0.5 * np.dot(np.dot((x - meanmat),np.linalg.inv(covariance)),(x - meanmat).T))\n",
        "  return l"
      ],
      "execution_count": null,
      "outputs": []
    },
    {
      "cell_type": "code",
      "metadata": {
        "id": "wDaszorpMiD2"
      },
      "source": [
        "def MAP(x_testing, x, y):\n",
        "  # finding prior prob\n",
        "  p1 = len([i for (i, val) in enumerate(y) if val == 1 ])\n",
        "  p2 = len([i for (i, val) in enumerate(y) if val == 2 ])\n",
        "  p3 = len([i for (i, val) in enumerate(y) if val == 3 ])\n",
        "  p1, p2, p3 = p1/len(y), p2/len(y), p3/len(y)\n",
        "\n",
        "  # splitting the input data into it's different classes\n",
        "  x1 = np.array([x[i] for (i, val) in enumerate(y) if val == 1 ])\n",
        "  x2 = np.array([x[i] for (i, val) in enumerate(y) if val == 2 ])\n",
        "  x3 = np.array([x[i] for (i, val) in enumerate(y) if val == 3 ])\n",
        "\n",
        "  # evidence\n",
        "  e1, e2, e3 = len(x1)/(len(x)), len(x2)/(len(x)), len(x3)/(len(x))\n",
        "\n",
        "  m1 = np.mean(x1, axis = 0)\n",
        "  m2 = np.mean(x2, axis = 0)\n",
        "  m3 = np.mean(x3, axis = 0)\n",
        "  cov1 = np.cov(np.transpose(x1.astype(float)))\n",
        "  cov2 = np.cov(x2.astype(float).T)\n",
        "  cov3 = np.cov(x3.astype(float).T)\n",
        "\n",
        "  # likelihood\n",
        "  l1 = likelihood(x_testing, m1, cov1)\n",
        "  l2 = likelihood(x_testing, m2, cov2)\n",
        "  l3 = likelihood(x_testing, m3, cov3)\n",
        "\n",
        "  # MAP\n",
        "  map1, map2, map3 = (l1*p1)/e1, (l2 * p2)/e2, (l3 * p3)/e3\n",
        "\n",
        "  # output\n",
        "  if max(map1, map2, map3) == map1:\n",
        "    return 1\n",
        "  elif max(map1, map2, map3) == map2:\n",
        "    return 2\n",
        "  else:\n",
        "    return 3"
      ],
      "execution_count": null,
      "outputs": []
    },
    {
      "cell_type": "code",
      "metadata": {
        "id": "6KR3y_q_P05K"
      },
      "source": [
        "def confusion_mat(y_predicted, y_testing):\n",
        "  conf_mat = np.zeros((3,3))\n",
        "  for i in range(len(y_testing)):\n",
        "    if y_testing[i] == 1:\n",
        "      if y_predicted[i] == 1:\n",
        "        conf_mat [0][0] += 1\n",
        "      if y_predicted[i] == 2:\n",
        "        conf_mat [0][1] += 1\n",
        "      if y_predicted[i] == 3:\n",
        "        conf_mat [0][2] += 1\n",
        "    if y_testing[i] == 2:\n",
        "      if y_predicted[i] == 1:\n",
        "        conf_mat [1][0] += 1\n",
        "      if y_predicted[i] == 2:\n",
        "        conf_mat [1][1] += 1\n",
        "      if y_predicted[i] == 3:\n",
        "        conf_mat [1][2] += 1\n",
        "    if y_testing[i] == 3:\n",
        "      if y_predicted[i] == 1:\n",
        "        conf_mat [2][0] += 1\n",
        "      if y_predicted[i] == 2:\n",
        "        conf_mat [2][1] += 1\n",
        "      if y_predicted[i] == 3:\n",
        "        conf_mat [2][2] += 1\n",
        "  return conf_mat"
      ],
      "execution_count": null,
      "outputs": []
    },
    {
      "cell_type": "code",
      "metadata": {
        "colab": {
          "base_uri": "https://localhost:8080/"
        },
        "id": "9i2ItEi9QzzA",
        "outputId": "c4829fba-4607-47af-9eb7-f794ba7320e9"
      },
      "source": [
        "ind_acc1 = []\n",
        "ind_acc2 = []\n",
        "ind_acc3 = []\n",
        "overall_acc = []\n",
        "for i in range(5):\n",
        "  X_testing, y_testing, X_training, y_training = cross_validation(i, X, y)\n",
        "  y_predicted = []\n",
        "  for i in range(len(X_testing)):\n",
        "    y_predicted.append(MAP(X_testing[i], X_training, y_training))\n",
        "  # print(y_predicted, y_testing)\n",
        "  conf_mat = confusion_mat(y_predicted, y_testing)\n",
        "  # individual accuracy\n",
        "  acc1 = conf_mat[ 0 ][ 0 ]/sum(conf_mat[ 0 ])\n",
        "  ind_acc1.append(acc1)\n",
        "  acc2 = conf_mat[ 1 ][ 1 ]/sum(conf_mat[ 1 ])\n",
        "  ind_acc2.append(acc2)\n",
        "  acc3 = conf_mat[ 2 ][ 2 ]/sum(conf_mat[ 2 ])\n",
        "  ind_acc3.append(acc3)\n",
        "  # overall accuracy\n",
        "  acc = (conf_mat[ 0 ][ 0 ] + conf_mat[ 1 ][ 1 ] + conf_mat[ 2 ][ 2 ])/np.sum(conf_mat)\n",
        "  overall_acc.append(acc)\n",
        "avg_ind_acc1 = sum(ind_acc1)/len(ind_acc1)\n",
        "avg_ind_acc2 = sum(ind_acc2)/len(ind_acc2)\n",
        "avg_ind_acc3 = sum(ind_acc3)/len(ind_acc3)\n",
        "avg_overall_acc = sum(overall_acc)/len(overall_acc)\n",
        "print(\"Average individual accuracy of class 1:\", avg_ind_acc1)\n",
        "print(\"Average individual accuracy of class 2:\", avg_ind_acc2)\n",
        "print(\"Average individual accuracy of class 3:\", avg_ind_acc3)\n",
        "print(\"Average overall accuracy:\", avg_overall_acc)"
      ],
      "execution_count": null,
      "outputs": [
        {
          "output_type": "stream",
          "name": "stdout",
          "text": [
            "209\n",
            "41 41\n",
            "168 168\n",
            "[2, 1, 1, 1, 1, 1, 3, 1, 3, 3, 2, 2, 3, 2, 2, 1, 2, 3, 1, 2, 3, 2, 2, 2, 3, 2, 1, 2, 3, 3, 2, 3, 3, 3, 1, 1, 3, 3, 3, 1, 3] [2. 1. 1. 1. 1. 1. 3. 1. 3. 3. 2. 2. 3. 2. 2. 1. 2. 3. 1. 2. 3. 2. 2. 2.\n",
            " 3. 2. 1. 1. 3. 1. 2. 1. 3. 3. 1. 1. 3. 3. 3. 1. 3.]\n",
            "209\n",
            "41 41\n",
            "168 168\n",
            "[1, 2, 1, 1, 2, 3, 3, 1, 1, 3, 2, 2, 1, 1, 1, 3, 1, 1, 3, 1, 1, 3, 1, 1, 1, 2, 3, 1, 3, 2, 1, 2, 1, 2, 2, 1, 2, 1, 2, 3, 1] [1. 2. 1. 2. 2. 3. 3. 1. 2. 3. 2. 2. 1. 1. 1. 3. 1. 1. 3. 1. 3. 3. 1. 1.\n",
            " 1. 2. 3. 1. 3. 2. 1. 2. 1. 2. 2. 1. 2. 1. 2. 3. 2.]\n",
            "209\n",
            "41 41\n",
            "168 168\n",
            "[3, 2, 3, 2, 2, 2, 1, 1, 3, 3, 2, 2, 2, 2, 1, 2, 3, 3, 1, 3, 1, 3, 1, 2, 3, 2, 3, 1, 3, 3, 1, 3, 2, 2, 3, 2, 3, 1, 2, 3, 1] [3. 2. 3. 2. 2. 2. 1. 1. 3. 3. 1. 2. 2. 2. 1. 2. 3. 3. 1. 3. 1. 3. 1. 2.\n",
            " 3. 2. 3. 1. 1. 3. 1. 3. 2. 2. 3. 2. 3. 1. 2. 3. 1.]\n",
            "209\n",
            "41 41\n",
            "168 168\n",
            "[2, 3, 3, 3, 3, 1, 3, 3, 1, 3, 2, 1, 2, 2, 2, 2, 1, 1, 3, 2, 3, 3, 1, 3, 1, 2, 3, 2, 2, 1, 1, 2, 2, 2, 1, 1, 2, 3, 3, 1, 3] [2. 3. 3. 3. 3. 1. 3. 3. 1. 3. 2. 1. 2. 2. 2. 2. 1. 1. 3. 2. 3. 3. 1. 3.\n",
            " 1. 2. 3. 2. 2. 1. 1. 2. 2. 2. 3. 1. 2. 3. 3. 1. 3.]\n",
            "209\n",
            "41 41\n",
            "168 168\n",
            "[2, 2, 3, 2, 1, 3, 2, 1, 1, 2, 1, 3, 3, 3, 3, 2, 1, 2, 1, 3, 2, 3, 1, 1, 3, 2, 1, 3, 2, 2, 3, 2, 3, 2, 2, 1, 3, 1, 3, 3, 2] [2. 2. 3. 2. 1. 3. 2. 1. 1. 2. 1. 3. 1. 3. 3. 2. 1. 2. 1. 3. 2. 3. 1. 1.\n",
            " 3. 2. 3. 3. 2. 2. 3. 2. 3. 2. 2. 1. 3. 1. 3. 3. 2.]\n",
            "Individual accuracy of class 1: 0.9084848484848485\n",
            "Individual accuracy of class 2: 0.9571428571428571\n",
            "Individual accuracy of class 3: 0.9541666666666666\n",
            "Overall accuracy: 0.9414634146341463\n"
          ]
        }
      ]
    }
  ]
}